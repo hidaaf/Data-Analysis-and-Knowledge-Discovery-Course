{
 "cells": [
  {
   "cell_type": "markdown",
   "metadata": {
    "id": "Rpio-nMAoDwq"
   },
   "source": [
    "------\n",
    "\n",
    "# Data Analysis and Knowledge Discovery: Exercise 2, Supervised learning"
   ]
  },
  {
   "cell_type": "markdown",
   "metadata": {
    "id": "90c9fF6woDwr"
   },
   "source": [
    "The previous exercise was about <i>data understanding</i> and <i>data preparation</i>, which formed the basis for the modeling phase of the data mining process. Many modeling techniques make assumptions about data so the exploration and preparation phases can't be ignored. Now, as we have checked the validity of data and familiarized ourselves with it, we can move on to the next stage of the Cross-Industry Standard Process for Data Mining (CRISP-DM) which is <font color = darkorchid><i>modeling</i></font>.\n",
    "\n",
    "The questions to be answered at this stage could be for example:\n",
    "\n",
    "- What kind of model architecture best fits our data?\n",
    "- How well does the model perform technically?\n",
    "- Could we improve that performance?\n",
    "- How the performance of the model is evaluated?\n",
    "\n",
    "<i>Machine learning</i> is a subfield of artificial intelligence which provides automatic, objective and data-driven techniques for modeling the data. The machine learning algorithms aim to learn from data to make predictions. The two main branches of it are <i>supervised learning</i> and <i>unsupervised learning</i>.  In this exercise, we are going to use the former -- <font color = darkorchid><i>supervised learning</i></font> -- for classification and regression tasks.\n",
    "\n",
    "For classification, data remains the same as in the previous exercise, but I've already cleaned it up for you. Some data pre-processing steps are still required to ensure that it's in an appropriate format, so that models can learn something from it. Even though we are not doing any major data exploration nor data preparation here this time, <i>you should <b>never</b> forget it in your future data analyses</i>.\n",
    "\n",
    "-----\n",
    "\n",
    "<b>General guidance for exercises</b>\n",
    "\n",
    "- Answer <b>all</b> questions below, even if you can't get your script to fully work.\n",
    "- Write clear and easily readable code, and include explanations what your code does\n",
    "- Make informative illustrations: include labels for x and y axes, legends and captions for your plots.\n",
    "- You can add more code and markup cells, as long as the flow of the notebook stays readable and logical.\n",
    "- Before saving the ipynb file (and possible printing) run: \"Restart & Run all\", to make sure you return a file that works as expected.\n",
    "- Grading: *Fail*/*Pass*/*Pass with honors* (+1)\n",
    "- +1 bonus point (grading *Pass with honors*) requires a <b>completely</b> correct solution and also thorough analysis.\n",
    "- If you encounter problems, Google first. If you can't find an answer to the problem, don't hesitate to ask in the Moodle discussion or directly via moodle chat or email from the course assistants.\n",
    "- Note! Don't leave it to the last moment! No feedback service during weekends.\n",
    "\n",
    "<font color = red size = 4><b>The deadline is 28 November at 18:00</b></font>. Late submissions will not be accepted unless there is a valid excuse for extending the deadline before the due date.\n",
    "\n",
    "------"
   ]
  },
  {
   "cell_type": "markdown",
   "metadata": {
    "id": "2I2WLapM3BPc"
   },
   "source": [
    "### Gather **all** packages needed for this notebook here:\n",
    "\n",
    "You can use other packages as well, but this excercise can be completed with those below."
   ]
  },
  {
   "cell_type": "code",
   "execution_count": 1,
   "metadata": {
    "id": "iypIAVquoDws"
   },
   "outputs": [],
   "source": [
    "import numpy as np\n",
    "import pandas as pd\n",
    "import scipy.stats as stats\n",
    "import seaborn as sns\n",
    "import matplotlib.pyplot as plt\n",
    "\n",
    "# Machine learning package - scikit-learn\n",
    "from sklearn import metrics\n",
    "from sklearn.preprocessing import StandardScaler\n",
    "from sklearn.model_selection import train_test_split, cross_val_score, LeaveOneOut, GridSearchCV\n",
    "from sklearn.neighbors import KNeighborsClassifier, KNeighborsRegressor\n",
    "from sklearn.linear_model import Ridge\n",
    "\n",
    "# Show the plots inline in the notebook\n",
    "%matplotlib inline"
   ]
  },
  {
   "cell_type": "markdown",
   "metadata": {},
   "source": [
    "______________\n",
    "## <font color = lightcoral>1. Classification using k-nearest neighbors </font> "
   ]
  },
  {
   "cell_type": "markdown",
   "metadata": {
    "id": "7CqWZYx2oDw3"
   },
   "source": [
    "We start exploring the world of data modeling by using <font color = darkorchid><b>K-Nearest Neightbors (k-NN) algorithm</b></font>. The k-NN algorithm is one of the classic supervised machine learning algorithms. It assumes that similar points are close to each other. \n",
    "\n",
    "In our case, we'll use the k-NN algorithm to **predict the presence of cardiovascular disease** using all the other variables as <font color = darkorchid><b>features</b></font> in the given data set. So, the target variable is <font color = darkorchid><b>cardio</b></font>.\n",
    "\n",
    "But first, we need data for the task. The code for loading the data into the environment is provided for you. <font color = red>The code should work, but make sure, that you have the csv file of the data in the same directory where you have this notebook file.</font> \n",
    "\n",
    "***Exercise 1 A)*** \n",
    "\n",
    "Print the first 10 rows to check that everything is ok with the created dataframe.\n",
    "\n",
    "*note: as said, the data remains the same, but cholesterol has been one-hot-encoded for you already. There's also a new variable gluc (about glucose levels), which is one-hot-encoded for you. It has the similar values as cholesterol originally does [normal, at risk, elevated]. Also, binary variables have been changed to [0,1] values.*\n"
   ]
  },
  {
   "cell_type": "code",
   "execution_count": 186,
   "metadata": {},
   "outputs": [],
   "source": [
    "### Loading code provided\n",
    "# ------------------------------------------------------\n",
    "# The data file should be at the same location than the \n",
    "# exercise file to make sure the following lines work!\n",
    "# Otherwise, fix the path.\n",
    "# ------------------------------------------------------\n",
    "\n",
    "# Path for the data\n",
    "data_path = 'ex2_cardio_data.csv'\n",
    "\n",
    "# Create a dataframe\n",
    "cardio_data = pd.read_csv(data_path, dtype='int')"
   ]
  },
  {
   "cell_type": "code",
   "execution_count": 187,
   "metadata": {},
   "outputs": [
    {
     "data": {
      "text/html": [
       "<div>\n",
       "<style scoped>\n",
       "    .dataframe tbody tr th:only-of-type {\n",
       "        vertical-align: middle;\n",
       "    }\n",
       "\n",
       "    .dataframe tbody tr th {\n",
       "        vertical-align: top;\n",
       "    }\n",
       "\n",
       "    .dataframe thead th {\n",
       "        text-align: right;\n",
       "    }\n",
       "</style>\n",
       "<table border=\"1\" class=\"dataframe\">\n",
       "  <thead>\n",
       "    <tr style=\"text-align: right;\">\n",
       "      <th></th>\n",
       "      <th>age</th>\n",
       "      <th>sex</th>\n",
       "      <th>height</th>\n",
       "      <th>weight</th>\n",
       "      <th>ap_hi</th>\n",
       "      <th>ap_lo</th>\n",
       "      <th>smoke</th>\n",
       "      <th>alco</th>\n",
       "      <th>active</th>\n",
       "      <th>cardio</th>\n",
       "      <th>cholesterol_at_risk</th>\n",
       "      <th>cholesterol_elevated</th>\n",
       "      <th>cholesterol_normal</th>\n",
       "      <th>gluc_at_risk</th>\n",
       "      <th>gluc_elevated</th>\n",
       "      <th>gluc_normal</th>\n",
       "    </tr>\n",
       "  </thead>\n",
       "  <tbody>\n",
       "    <tr>\n",
       "      <th>0</th>\n",
       "      <td>22767</td>\n",
       "      <td>0</td>\n",
       "      <td>162</td>\n",
       "      <td>75</td>\n",
       "      <td>120</td>\n",
       "      <td>80</td>\n",
       "      <td>0</td>\n",
       "      <td>0</td>\n",
       "      <td>1</td>\n",
       "      <td>0</td>\n",
       "      <td>0</td>\n",
       "      <td>0</td>\n",
       "      <td>1</td>\n",
       "      <td>0</td>\n",
       "      <td>0</td>\n",
       "      <td>1</td>\n",
       "    </tr>\n",
       "    <tr>\n",
       "      <th>1</th>\n",
       "      <td>19102</td>\n",
       "      <td>0</td>\n",
       "      <td>164</td>\n",
       "      <td>80</td>\n",
       "      <td>140</td>\n",
       "      <td>90</td>\n",
       "      <td>0</td>\n",
       "      <td>0</td>\n",
       "      <td>1</td>\n",
       "      <td>0</td>\n",
       "      <td>0</td>\n",
       "      <td>0</td>\n",
       "      <td>1</td>\n",
       "      <td>0</td>\n",
       "      <td>0</td>\n",
       "      <td>1</td>\n",
       "    </tr>\n",
       "    <tr>\n",
       "      <th>2</th>\n",
       "      <td>23251</td>\n",
       "      <td>0</td>\n",
       "      <td>155</td>\n",
       "      <td>76</td>\n",
       "      <td>130</td>\n",
       "      <td>80</td>\n",
       "      <td>0</td>\n",
       "      <td>0</td>\n",
       "      <td>1</td>\n",
       "      <td>0</td>\n",
       "      <td>0</td>\n",
       "      <td>0</td>\n",
       "      <td>1</td>\n",
       "      <td>0</td>\n",
       "      <td>1</td>\n",
       "      <td>0</td>\n",
       "    </tr>\n",
       "    <tr>\n",
       "      <th>3</th>\n",
       "      <td>22651</td>\n",
       "      <td>1</td>\n",
       "      <td>169</td>\n",
       "      <td>65</td>\n",
       "      <td>120</td>\n",
       "      <td>80</td>\n",
       "      <td>0</td>\n",
       "      <td>0</td>\n",
       "      <td>1</td>\n",
       "      <td>0</td>\n",
       "      <td>0</td>\n",
       "      <td>0</td>\n",
       "      <td>1</td>\n",
       "      <td>0</td>\n",
       "      <td>0</td>\n",
       "      <td>1</td>\n",
       "    </tr>\n",
       "    <tr>\n",
       "      <th>4</th>\n",
       "      <td>21770</td>\n",
       "      <td>1</td>\n",
       "      <td>171</td>\n",
       "      <td>67</td>\n",
       "      <td>160</td>\n",
       "      <td>100</td>\n",
       "      <td>0</td>\n",
       "      <td>0</td>\n",
       "      <td>0</td>\n",
       "      <td>1</td>\n",
       "      <td>0</td>\n",
       "      <td>0</td>\n",
       "      <td>1</td>\n",
       "      <td>0</td>\n",
       "      <td>0</td>\n",
       "      <td>1</td>\n",
       "    </tr>\n",
       "    <tr>\n",
       "      <th>5</th>\n",
       "      <td>14651</td>\n",
       "      <td>1</td>\n",
       "      <td>170</td>\n",
       "      <td>70</td>\n",
       "      <td>120</td>\n",
       "      <td>80</td>\n",
       "      <td>0</td>\n",
       "      <td>0</td>\n",
       "      <td>1</td>\n",
       "      <td>0</td>\n",
       "      <td>0</td>\n",
       "      <td>0</td>\n",
       "      <td>1</td>\n",
       "      <td>0</td>\n",
       "      <td>0</td>\n",
       "      <td>1</td>\n",
       "    </tr>\n",
       "    <tr>\n",
       "      <th>6</th>\n",
       "      <td>17391</td>\n",
       "      <td>0</td>\n",
       "      <td>152</td>\n",
       "      <td>65</td>\n",
       "      <td>110</td>\n",
       "      <td>70</td>\n",
       "      <td>0</td>\n",
       "      <td>0</td>\n",
       "      <td>1</td>\n",
       "      <td>0</td>\n",
       "      <td>0</td>\n",
       "      <td>0</td>\n",
       "      <td>1</td>\n",
       "      <td>0</td>\n",
       "      <td>0</td>\n",
       "      <td>1</td>\n",
       "    </tr>\n",
       "    <tr>\n",
       "      <th>7</th>\n",
       "      <td>14792</td>\n",
       "      <td>0</td>\n",
       "      <td>165</td>\n",
       "      <td>65</td>\n",
       "      <td>120</td>\n",
       "      <td>70</td>\n",
       "      <td>0</td>\n",
       "      <td>0</td>\n",
       "      <td>1</td>\n",
       "      <td>0</td>\n",
       "      <td>0</td>\n",
       "      <td>0</td>\n",
       "      <td>1</td>\n",
       "      <td>0</td>\n",
       "      <td>0</td>\n",
       "      <td>1</td>\n",
       "    </tr>\n",
       "    <tr>\n",
       "      <th>8</th>\n",
       "      <td>15982</td>\n",
       "      <td>1</td>\n",
       "      <td>180</td>\n",
       "      <td>81</td>\n",
       "      <td>110</td>\n",
       "      <td>70</td>\n",
       "      <td>1</td>\n",
       "      <td>0</td>\n",
       "      <td>1</td>\n",
       "      <td>0</td>\n",
       "      <td>0</td>\n",
       "      <td>0</td>\n",
       "      <td>1</td>\n",
       "      <td>0</td>\n",
       "      <td>0</td>\n",
       "      <td>1</td>\n",
       "    </tr>\n",
       "    <tr>\n",
       "      <th>9</th>\n",
       "      <td>19589</td>\n",
       "      <td>0</td>\n",
       "      <td>156</td>\n",
       "      <td>60</td>\n",
       "      <td>120</td>\n",
       "      <td>90</td>\n",
       "      <td>0</td>\n",
       "      <td>0</td>\n",
       "      <td>1</td>\n",
       "      <td>0</td>\n",
       "      <td>0</td>\n",
       "      <td>0</td>\n",
       "      <td>1</td>\n",
       "      <td>0</td>\n",
       "      <td>0</td>\n",
       "      <td>1</td>\n",
       "    </tr>\n",
       "  </tbody>\n",
       "</table>\n",
       "</div>"
      ],
      "text/plain": [
       "     age  sex  height  weight  ap_hi  ap_lo  smoke  alco  active  cardio  \\\n",
       "0  22767    0     162      75    120     80      0     0       1       0   \n",
       "1  19102    0     164      80    140     90      0     0       1       0   \n",
       "2  23251    0     155      76    130     80      0     0       1       0   \n",
       "3  22651    1     169      65    120     80      0     0       1       0   \n",
       "4  21770    1     171      67    160    100      0     0       0       1   \n",
       "5  14651    1     170      70    120     80      0     0       1       0   \n",
       "6  17391    0     152      65    110     70      0     0       1       0   \n",
       "7  14792    0     165      65    120     70      0     0       1       0   \n",
       "8  15982    1     180      81    110     70      1     0       1       0   \n",
       "9  19589    0     156      60    120     90      0     0       1       0   \n",
       "\n",
       "   cholesterol_at_risk  cholesterol_elevated  cholesterol_normal  \\\n",
       "0                    0                     0                   1   \n",
       "1                    0                     0                   1   \n",
       "2                    0                     0                   1   \n",
       "3                    0                     0                   1   \n",
       "4                    0                     0                   1   \n",
       "5                    0                     0                   1   \n",
       "6                    0                     0                   1   \n",
       "7                    0                     0                   1   \n",
       "8                    0                     0                   1   \n",
       "9                    0                     0                   1   \n",
       "\n",
       "   gluc_at_risk  gluc_elevated  gluc_normal  \n",
       "0             0              0            1  \n",
       "1             0              0            1  \n",
       "2             0              1            0  \n",
       "3             0              0            1  \n",
       "4             0              0            1  \n",
       "5             0              0            1  \n",
       "6             0              0            1  \n",
       "7             0              0            1  \n",
       "8             0              0            1  \n",
       "9             0              0            1  "
      ]
     },
     "execution_count": 187,
     "metadata": {},
     "output_type": "execute_result"
    }
   ],
   "source": [
    "### Code - 10 first row\n",
    "cardio_data.head(10)"
   ]
  },
  {
   "cell_type": "markdown",
   "metadata": {
    "id": "mfq_3_WNoDw3"
   },
   "source": [
    "----\n",
    "\n",
    "We have the data so let's make use of it. \n",
    "\n",
    "To teach the k-NN algorithm (or any kind of machine learning algorithm) to recognize patterns, we are going to need <font color = darkorchid><b>training data</b></font>. But to test how well a model possibly learned those patterns, we'll need <font color = darkorchid><b>test data</b></font> which is new and unseen for the trained model. Keep in mind that the test set is not shown for the model before we are actually done with training. \n",
    "\n",
    "So, to **find the estimate for the performance of a model**, we are going to use this <font color = darkorchid><b>train-test split</b></font>. \"Split\" because we literally split the data into two sets.\n",
    "\n",
    "Sometimes <font color = darkorchid>stratification</font> needs to be considered. It can be used to ensure that train and test sets contain the same proportions of samples of each target class as the original data set.\n",
    "\n",
    "***Exercise 1 B)*** \n",
    "\n",
    "Gather the features as an array `features`, and the target variable as an array `labels`. Produce training and test data.  Divide the data **randomly** into training (80%) and test (20%) sets.\n",
    "\n",
    "- Would it be a good idea to use stratification? **Explain** your decision."
   ]
  },
  {
   "cell_type": "code",
   "execution_count": 188,
   "metadata": {},
   "outputs": [],
   "source": [
    "### Code - Train-test split\n",
    "features = cardio_data.drop(\"cardio\", axis=1)\n",
    "labels = cardio_data['cardio']\n",
    "\n",
    "X_train, X_test, y_train, y_test = train_test_split(features, labels, test_size=0.2, stratify=labels, random_state=123 )"
   ]
  },
  {
   "cell_type": "markdown",
   "metadata": {
    "id": "daPc_o9boDw3"
   },
   "source": [
    "<font color = red> ***Yes, it would be a good idea to use stratification for a classification problem, because by ensuring that the train and test sets contain the same proportions of samples of each class as the original data, we are ensuring that both data sets will translate the same behavior or patterns shown in the original data even with technically smaller dataset, and that way the model can properly learn the hidden patterns from the data***"
   ]
  },
  {
   "cell_type": "markdown",
   "metadata": {},
   "source": [
    "----------\n",
    "\n",
    "***Exercise 1 C)*** \n",
    "\n",
    "Scale the numeric features. \n",
    "\n",
    "- Remind yourself briefly why you need this step. \n",
    "- What can you say about scaling especially from the perspective of the k-NN algorithm?\n",
    "\n",
    "*tip: You should now have **two** variables where you have the features divided into. Don't forget to scale the test data. Some good information about preprocessing and how to use it for train and test data can be found https://scikit-learn.org/stable/modules/preprocessing.html.*"
   ]
  },
  {
   "cell_type": "code",
   "execution_count": 189,
   "metadata": {},
   "outputs": [],
   "source": [
    "### Code - Standardization\n",
    "scaler = StandardScaler()\n",
    "num_features = ['age','height','weight','ap_hi','ap_lo']\n",
    "X_train_scaled = pd.concat([pd.DataFrame(scaler.fit_transform(X_train[num_features]), columns=num_features), \n",
    "                            X_train[X_train.columns[~X_train.columns.isin(num_features)]].reset_index()], axis=1).set_index('index')\n",
    "X_test_scaled = pd.concat([pd.DataFrame(scaler.fit_transform(X_test[num_features]), columns=num_features), \n",
    "                            X_test[X_test.columns[~X_test.columns.isin(num_features)]].reset_index()], axis=1).set_index('index')"
   ]
  },
  {
   "cell_type": "markdown",
   "metadata": {},
   "source": [
    "<font color = red> ***Data standardization is important for efficient data analysis, it is most useful when the features have ranges with large differences or are measured in different units, standardization comes in handy to solve this issue by transforming our data to be on the same scale. For models that are based on distance computation like K-NN scaling is crucial, because for example if one feature has a broader range of values, the distances will be affected by this feature, which will bias our analysis.***"
   ]
  },
  {
   "cell_type": "markdown",
   "metadata": {
    "id": "muqCazPIoDw4"
   },
   "source": [
    "-------\n",
    "\n",
    "It's time for us to train the model!\n",
    "\n",
    "***Exercise 1 D)*** \n",
    "\n",
    "Train a k-NN model with $k=3$. Print out the confusion matrix.\n",
    "- What can you say about the confusion matrix?\n",
    "- How does the model perform with the different classes? Where do you think the differences come from?\n",
    "- What is the total classification accuracy? How would you interpret it?\n",
    "- Perform also the following:\n",
    "    - Make 1000 **different** train and test set splits.\n",
    "    - Run the k-NN model (with $k=3$) for each split and save its accuracy.  \n",
    "    - Plot accuracies in a histogram.\n",
    "    - Discuss your results\n",
    "\n",
    "\n",
    "*tip: `sklearn.metrics.classification_report` is a great way to build up a text report showing the main classification metrics*"
   ]
  },
  {
   "cell_type": "code",
   "execution_count": 190,
   "metadata": {},
   "outputs": [
    {
     "name": "stdout",
     "output_type": "stream",
     "text": [
      "The total model accuracy  : 75.0%\n"
     ]
    }
   ],
   "source": [
    "### Code - kNN classifier\n",
    "knn = KNeighborsClassifier(n_neighbors=3)\n",
    "knn.fit(X_train_scaled, y_train)\n",
    "print('The total model accuracy  : '+ str(knn.score(X_test_scaled, y_test)*100)+'%')"
   ]
  },
  {
   "cell_type": "code",
   "execution_count": 191,
   "metadata": {
    "id": "NMR7Y2s6oDw4",
    "outputId": "33bd42f3-a25c-47de-cb12-908d698d08af"
   },
   "outputs": [
    {
     "name": "stderr",
     "output_type": "stream",
     "text": [
      "C:\\Users\\acer\\anaconda3\\lib\\site-packages\\sklearn\\utils\\deprecation.py:87: FutureWarning: Function plot_confusion_matrix is deprecated; Function `plot_confusion_matrix` is deprecated in 1.0 and will be removed in 1.2. Use one of the class methods: ConfusionMatrixDisplay.from_predictions or ConfusionMatrixDisplay.from_estimator.\n",
      "  warnings.warn(msg, category=FutureWarning)\n"
     ]
    },
    {
     "data": {
      "text/plain": [
       "Text(0, 0.5, 'Actual Labels')"
      ]
     },
     "execution_count": 191,
     "metadata": {},
     "output_type": "execute_result"
    },
    {
     "data": {
      "image/png": "[encoded data removed]",
      "text/plain": [
       "<Figure size 432x288 with 2 Axes>"
      ]
     },
     "metadata": {
      "needs_background": "light"
     },
     "output_type": "display_data"
    }
   ],
   "source": [
    "# confusion matrix\n",
    "y_pred = knn.predict(X_test_scaled)\n",
    "\n",
    "matrix = metrics.plot_confusion_matrix(knn, X_test_scaled, y_test, cmap=plt.cm.Blues)\n",
    "matrix.ax_.set_title('Confusion Matrix')\n",
    "plt.xlabel('Predicted Labels')\n",
    "plt.ylabel('Actual Labels')"
   ]
  },
  {
   "cell_type": "code",
   "execution_count": 192,
   "metadata": {},
   "outputs": [
    {
     "name": "stdout",
     "output_type": "stream",
     "text": [
      "              precision    recall  f1-score   support\n",
      "\n",
      "           0       0.81      0.85      0.83       143\n",
      "           1       0.57      0.49      0.53        57\n",
      "\n",
      "    accuracy                           0.75       200\n",
      "   macro avg       0.69      0.67      0.68       200\n",
      "weighted avg       0.74      0.75      0.74       200\n",
      "\n"
     ]
    }
   ],
   "source": [
    "print(metrics.classification_report(y_test, y_pred))"
   ]
  },
  {
   "cell_type": "code",
   "execution_count": 195,
   "metadata": {},
   "outputs": [],
   "source": [
    "### Code - 1000 different train-test-splits\n",
    "features_scaled = pd.concat([pd.DataFrame(scaler.fit_transform(features[num_features]), columns=num_features), \n",
    "                            features[features.columns[~features.columns.isin(num_features)]].reset_index()], axis=1).set_index('index')\n",
    "\n",
    "accuracies = []\n",
    "\n",
    "for i in range(1000):\n",
    "    X_train_i, X_test_i, y_train_i, y_test_i = train_test_split(features_scaled, labels, test_size=0.2, stratify=labels)    \n",
    "    knn.fit(X_train_i, y_train_i)\n",
    "    accuracies.append(knn.score(X_test_i, y_test_i))\n",
    "# for the purpose of this exercice I removed the random state so that we will get a different split each iteration"
   ]
  },
  {
   "cell_type": "code",
   "execution_count": 196,
   "metadata": {},
   "outputs": [
    {
     "data": {
      "text/plain": [
       "Text(0.5, 0, 'accuracy')"
      ]
     },
     "execution_count": 196,
     "metadata": {},
     "output_type": "execute_result"
    },
    {
     "data": {
      "image/png": "[encoded data removed]",
      "text/plain": [
       "<Figure size 432x288 with 1 Axes>"
      ]
     },
     "metadata": {
      "needs_background": "light"
     },
     "output_type": "display_data"
    }
   ],
   "source": [
    "sns.histplot(accuracies)\n",
    "plt.title('Histogram of accuracies for a 1000 different train and test set splits')\n",
    "plt.xlabel('accuracy')"
   ]
  },
  {
   "cell_type": "markdown",
   "metadata": {
    "id": "1ceztBiPoDw4"
   },
   "source": [
    "<font color = red> ***- Based on the results of the confusion matrix, we can notice that the vast majority of the model predictions fall under the True positives category, meaning that the model was able to correctly label a big number of individuals without the cardiovascular disease 'class 0', however, this was not the case of the 'class 1' as the number of True negatives is almost identical to False negatives, meaning that the model didn't do so well in predicting the presence of cardiovascular disease. So the model might be good in detecting the absence of the disease, and that is probably due to the fact that the target class was a bit unbalanced and the model learned the pattern for class 0 but not so much for class 1\n",
    "    <br>- the total classification accuracy of our model was 75% meaning that the model was 75% accurate in predicting unseen data\n",
    "    <br>- When we performed a 1000 splits we can notice that the accuracies generally fall between 65% and 83% with a similar mean to our previous model of 76%*** "
   ]
  },
  {
   "cell_type": "markdown",
   "metadata": {},
   "source": [
    "------\n",
    "\n",
    "One really common evaluation metric is <font color = darkorchid><b>the area under the receiver operating characteristic (AUROC or AUC-ROC)</b></font>.\n",
    "\n",
    "***Exercise 1 E)*** \n",
    "\n",
    "Explain what information you can learn about the one k-NN model you trained by using AUROC. Also, evaluate the performance by computing  the metric and plotting the related curve. Draw also the line for random guesses.\n",
    "\n",
    "- How would you interpret the results?"
   ]
  },
  {
   "cell_type": "code",
   "execution_count": 200,
   "metadata": {},
   "outputs": [
    {
     "data": {
      "text/plain": [
       "0.8808735124524598"
      ]
     },
     "execution_count": 200,
     "metadata": {},
     "output_type": "execute_result"
    }
   ],
   "source": [
    "predicted_proba = knn.predict_proba(X_test_scaled)[:,1]\n",
    "metrics.roc_auc_score(y_test, predicted_proba)"
   ]
  },
  {
   "cell_type": "code",
   "execution_count": 204,
   "metadata": {},
   "outputs": [
    {
     "data": {
      "text/plain": [
       "<sklearn.metrics._plot.roc_curve.RocCurveDisplay at 0x1f94e9f91f0>"
      ]
     },
     "execution_count": 204,
     "metadata": {},
     "output_type": "execute_result"
    },
    {
     "data": {
      "image/png": "[encoded data removed]",
      "text/plain": [
       "<Figure size 432x288 with 1 Axes>"
      ]
     },
     "metadata": {
      "needs_background": "light"
     },
     "output_type": "display_data"
    }
   ],
   "source": [
    "fpr, tpr, _ = metrics.roc_curve(y_test, predicted_proba)\n",
    "rocauc = metrics.auc(fpr, tpr)\n",
    "auroc_curve = metrics.RocCurveDisplay(fpr=fpr, tpr=tpr, roc_auc=rocauc)\n",
    "auroc_curve.plot()"
   ]
  },
  {
   "cell_type": "markdown",
   "metadata": {},
   "source": [
    "<font color = red> \\***In general, an AUC of 0.5 suggests no discrimination between the classes, the closer the curve to the top left corner the better, our model resulted to a value of 0,88 which is considered very good***  </font>"
   ]
  },
  {
   "cell_type": "markdown",
   "metadata": {
    "id": "gQfehqAioDw4"
   },
   "source": [
    "__________\n",
    "## <font color = royalblue> 2. Classification accuracy using leave-one-out cross validation"
   ]
  },
  {
   "cell_type": "markdown",
   "metadata": {
    "id": "DPZx-6JLoDw5"
   },
   "source": [
    "Even thought the train-test split gives us an unbiased estimate of the performance, we only evaluate the model one time. Especially with very small data sets, a test set will be very small. How can we be sure that the evaluation is accurate with this small test set and not just a good (or bad) luck? And what if we'd like to compare two models and the other seems to be better -- how can we be sure that it's not just a coincidence?\n",
    "\n",
    "Well, there's a great help available and it's called <font color = darkorchid><b>cross-validation</b></font>. This time, we'll take a look at <font color = darkorchid><i>leave-one-out cross-validation</i></font>.\n",
    "\n",
    "***Exercise 2 A)***\n",
    "\n",
    "Describe *in your own words*, how leave-one-out cross validation works? How does it actually differ from the basic train-test split?"
   ]
  },
  {
   "cell_type": "markdown",
   "metadata": {
    "id": "TXJmJ80DoDw5"
   },
   "source": [
    "<font color = red> ***Leave-one-out cross-validation is one category of cross-validation where the number of folds k is equal to the number of observations in our data set. This means that the model will be trained once for every observation, using all the other remaining observations as a training set and using the selected observations as a one item test set. In our case this would be similar the 1000 different train-test splits***"
   ]
  },
  {
   "cell_type": "markdown",
   "metadata": {},
   "source": [
    "---------------\n",
    "\n",
    "***Exercise 2 B)***\n",
    "\n",
    "Let's predict once again the **presence of cardiovascular disease** using all the other variables in the dataset as features. Now, use leave-one-out cross validation to estimate the model performance. Again, use a kNN classifier with $k=3$.\n",
    "\n",
    "- What is the classification accuracy? Compare the result with the one you got in the previous task.\n",
    "\n",
    "*tip: Sure this could be done manually, but `cross_val_score` is quite a handy function too.*"
   ]
  },
  {
   "cell_type": "code",
   "execution_count": 109,
   "metadata": {
    "id": "znHjVwKDoDw5",
    "outputId": "3b73cc4a-eef7-4e9e-be17-19d79df71033"
   },
   "outputs": [],
   "source": [
    "### Code - Leave-one-out cross validation\n",
    "cv = LeaveOneOut()\n",
    "scores = cross_val_score(KNeighborsClassifier(n_neighbors=3), features_scaled, labels, scoring='accuracy',\n",
    "                         cv=cv, n_jobs=-1)"
   ]
  },
  {
   "cell_type": "code",
   "execution_count": 113,
   "metadata": {},
   "outputs": [
    {
     "name": "stdout",
     "output_type": "stream",
     "text": [
      "Accuracy for leave-one-out : 76.0%\n"
     ]
    }
   ],
   "source": [
    "print('Accuracy for leave-one-out : ' +str(np.mean(scores)*100) + '%')"
   ]
  },
  {
   "cell_type": "markdown",
   "metadata": {},
   "source": [
    "<font color = red> ***The resulting accuracy for leave-one-out is quiet similar to the mean accuracy in the last task, confirming our theory that the n-time train-test splits more or less explains the approach for leave-one-out***"
   ]
  },
  {
   "cell_type": "markdown",
   "metadata": {
    "id": "88BjCQL6oDw5"
   },
   "source": [
    "____________\n",
    "## <font color = forestgreen> 3. Model selection with leave-one-out cross validation"
   ]
  },
  {
   "cell_type": "markdown",
   "metadata": {
    "id": "A8fcES_LoDw5"
   },
   "source": [
    "So far, we've trained one model at a time and I've given the value of k for you. Accuracy is what it is (no spoilers here), but could we still do a little better? Let's try that by <font color = darkorchid><b>hyperparameter tuning</b></font>.\n",
    "\n",
    "This time, we're going to train multiple models, let's say 30, and choose the best K-Nearest Neighbors model among the others. Almost all models have some parameters that need to be chosen. As does the k-NN, I just happened to choose the k value of 3 for you. Note, k-NN has many other hyperparameters too, but for the sake of simplicity, this time we'll focus only on the nearest neighbors. \n",
    "\n",
    "Now, you're supposed to find that *optimal value* for k.\n",
    "\n",
    "***Exercise 3***\n",
    "\n",
    "Repeat the model performance estimation with values $k=1...30$ using again leave-one-out cross validation.\n",
    "\n",
    "- Which value of k produces the best classification accuracy?\n",
    "- If the number of k is still increased, what is the limit that the classification accuracy approaches? Why? \n",
    "- Can you say something about the performance of this selected model with new, unseen data? Explain, how you could you estimate the performance of this selected model.\n",
    "\n",
    "*tip: `GridSearchCV` is a good class for this but will you get the other but the best k value out of it?*"
   ]
  },
  {
   "cell_type": "code",
   "execution_count": 122,
   "metadata": {
    "id": "RJ7570_ZoDw6",
    "outputId": "91caaf74-2636-46f7-a4e3-4e5ba98e4c4e"
   },
   "outputs": [
    {
     "name": "stdout",
     "output_type": "stream",
     "text": [
      "Fitting 800 folds for each of 30 candidates, totalling 24000 fits\n"
     ]
    },
    {
     "data": {
      "text/plain": [
       "{'n_neighbors': 25}"
      ]
     },
     "execution_count": 122,
     "metadata": {},
     "output_type": "execute_result"
    }
   ],
   "source": [
    "### Code - Select best k\n",
    "grid = GridSearchCV(KNeighborsClassifier(), dict(n_neighbors=list(range(1, 31))), \n",
    "                    cv=cv, scoring='accuracy', return_train_score=False, verbose=1)\n",
    "  \n",
    "grid.fit(X_train_scaled, y_train)\n",
    "grid.best_params_"
   ]
  },
  {
   "cell_type": "code",
   "execution_count": 123,
   "metadata": {
    "scrolled": true
   },
   "outputs": [
    {
     "name": "stdout",
     "output_type": "stream",
     "text": [
      "Accuracy for the training dataset after tuning is : 78.62%\n"
     ]
    }
   ],
   "source": [
    "accuracy = grid.best_score_ *100\n",
    "print(\"Accuracy for the training dataset after tuning is : {:.2f}%\".format(accuracy) )"
   ]
  },
  {
   "cell_type": "code",
   "execution_count": 131,
   "metadata": {},
   "outputs": [
    {
     "data": {
      "text/html": [
       "<div>\n",
       "<style scoped>\n",
       "    .dataframe tbody tr th:only-of-type {\n",
       "        vertical-align: middle;\n",
       "    }\n",
       "\n",
       "    .dataframe tbody tr th {\n",
       "        vertical-align: top;\n",
       "    }\n",
       "\n",
       "    .dataframe thead th {\n",
       "        text-align: right;\n",
       "    }\n",
       "</style>\n",
       "<table border=\"1\" class=\"dataframe\">\n",
       "  <thead>\n",
       "    <tr style=\"text-align: right;\">\n",
       "      <th></th>\n",
       "      <th>param_n_neighbors</th>\n",
       "      <th>mean_test_score</th>\n",
       "    </tr>\n",
       "  </thead>\n",
       "  <tbody>\n",
       "    <tr>\n",
       "      <th>0</th>\n",
       "      <td>1</td>\n",
       "      <td>0.72250</td>\n",
       "    </tr>\n",
       "    <tr>\n",
       "      <th>1</th>\n",
       "      <td>2</td>\n",
       "      <td>0.75125</td>\n",
       "    </tr>\n",
       "    <tr>\n",
       "      <th>2</th>\n",
       "      <td>3</td>\n",
       "      <td>0.75625</td>\n",
       "    </tr>\n",
       "    <tr>\n",
       "      <th>3</th>\n",
       "      <td>4</td>\n",
       "      <td>0.75625</td>\n",
       "    </tr>\n",
       "    <tr>\n",
       "      <th>4</th>\n",
       "      <td>5</td>\n",
       "      <td>0.77250</td>\n",
       "    </tr>\n",
       "    <tr>\n",
       "      <th>5</th>\n",
       "      <td>6</td>\n",
       "      <td>0.76250</td>\n",
       "    </tr>\n",
       "    <tr>\n",
       "      <th>6</th>\n",
       "      <td>7</td>\n",
       "      <td>0.77625</td>\n",
       "    </tr>\n",
       "    <tr>\n",
       "      <th>7</th>\n",
       "      <td>8</td>\n",
       "      <td>0.76750</td>\n",
       "    </tr>\n",
       "    <tr>\n",
       "      <th>8</th>\n",
       "      <td>9</td>\n",
       "      <td>0.77875</td>\n",
       "    </tr>\n",
       "    <tr>\n",
       "      <th>9</th>\n",
       "      <td>10</td>\n",
       "      <td>0.77500</td>\n",
       "    </tr>\n",
       "    <tr>\n",
       "      <th>10</th>\n",
       "      <td>11</td>\n",
       "      <td>0.77000</td>\n",
       "    </tr>\n",
       "    <tr>\n",
       "      <th>11</th>\n",
       "      <td>12</td>\n",
       "      <td>0.77250</td>\n",
       "    </tr>\n",
       "    <tr>\n",
       "      <th>12</th>\n",
       "      <td>13</td>\n",
       "      <td>0.77750</td>\n",
       "    </tr>\n",
       "    <tr>\n",
       "      <th>13</th>\n",
       "      <td>14</td>\n",
       "      <td>0.77000</td>\n",
       "    </tr>\n",
       "    <tr>\n",
       "      <th>14</th>\n",
       "      <td>15</td>\n",
       "      <td>0.77500</td>\n",
       "    </tr>\n",
       "    <tr>\n",
       "      <th>15</th>\n",
       "      <td>16</td>\n",
       "      <td>0.77500</td>\n",
       "    </tr>\n",
       "    <tr>\n",
       "      <th>16</th>\n",
       "      <td>17</td>\n",
       "      <td>0.78000</td>\n",
       "    </tr>\n",
       "    <tr>\n",
       "      <th>17</th>\n",
       "      <td>18</td>\n",
       "      <td>0.77500</td>\n",
       "    </tr>\n",
       "    <tr>\n",
       "      <th>18</th>\n",
       "      <td>19</td>\n",
       "      <td>0.78250</td>\n",
       "    </tr>\n",
       "    <tr>\n",
       "      <th>19</th>\n",
       "      <td>20</td>\n",
       "      <td>0.77375</td>\n",
       "    </tr>\n",
       "    <tr>\n",
       "      <th>20</th>\n",
       "      <td>21</td>\n",
       "      <td>0.77875</td>\n",
       "    </tr>\n",
       "    <tr>\n",
       "      <th>21</th>\n",
       "      <td>22</td>\n",
       "      <td>0.77750</td>\n",
       "    </tr>\n",
       "    <tr>\n",
       "      <th>22</th>\n",
       "      <td>23</td>\n",
       "      <td>0.78375</td>\n",
       "    </tr>\n",
       "    <tr>\n",
       "      <th>23</th>\n",
       "      <td>24</td>\n",
       "      <td>0.78375</td>\n",
       "    </tr>\n",
       "    <tr>\n",
       "      <th>24</th>\n",
       "      <td>25</td>\n",
       "      <td>0.78625</td>\n",
       "    </tr>\n",
       "    <tr>\n",
       "      <th>25</th>\n",
       "      <td>26</td>\n",
       "      <td>0.78125</td>\n",
       "    </tr>\n",
       "    <tr>\n",
       "      <th>26</th>\n",
       "      <td>27</td>\n",
       "      <td>0.78250</td>\n",
       "    </tr>\n",
       "    <tr>\n",
       "      <th>27</th>\n",
       "      <td>28</td>\n",
       "      <td>0.77625</td>\n",
       "    </tr>\n",
       "    <tr>\n",
       "      <th>28</th>\n",
       "      <td>29</td>\n",
       "      <td>0.77750</td>\n",
       "    </tr>\n",
       "    <tr>\n",
       "      <th>29</th>\n",
       "      <td>30</td>\n",
       "      <td>0.77875</td>\n",
       "    </tr>\n",
       "  </tbody>\n",
       "</table>\n",
       "</div>"
      ],
      "text/plain": [
       "   param_n_neighbors  mean_test_score\n",
       "0                  1          0.72250\n",
       "1                  2          0.75125\n",
       "2                  3          0.75625\n",
       "3                  4          0.75625\n",
       "4                  5          0.77250\n",
       "5                  6          0.76250\n",
       "6                  7          0.77625\n",
       "7                  8          0.76750\n",
       "8                  9          0.77875\n",
       "9                 10          0.77500\n",
       "10                11          0.77000\n",
       "11                12          0.77250\n",
       "12                13          0.77750\n",
       "13                14          0.77000\n",
       "14                15          0.77500\n",
       "15                16          0.77500\n",
       "16                17          0.78000\n",
       "17                18          0.77500\n",
       "18                19          0.78250\n",
       "19                20          0.77375\n",
       "20                21          0.77875\n",
       "21                22          0.77750\n",
       "22                23          0.78375\n",
       "23                24          0.78375\n",
       "24                25          0.78625\n",
       "25                26          0.78125\n",
       "26                27          0.78250\n",
       "27                28          0.77625\n",
       "28                29          0.77750\n",
       "29                30          0.77875"
      ]
     },
     "execution_count": 131,
     "metadata": {},
     "output_type": "execute_result"
    }
   ],
   "source": [
    "# if we increase the number of neighbors\n",
    "grid_cv = pd.DataFrame(grid.cv_results_)[['param_n_neighbors','mean_test_score']]\n",
    "grid_cv"
   ]
  },
  {
   "cell_type": "code",
   "execution_count": 125,
   "metadata": {},
   "outputs": [
    {
     "name": "stdout",
     "output_type": "stream",
     "text": [
      "Accuracy for the test dataset for the selected model is : 0.76%\n"
     ]
    }
   ],
   "source": [
    "#performance on unseen data\n",
    "knn_cv = KNeighborsClassifier(n_neighbors=25)\n",
    "\n",
    "knn_cv.fit(X_train_scaled, y_train)\n",
    "\n",
    "test_accuracy = knn_cv.score(X_test_scaled, y_test)\n",
    "\n",
    "print(\"Accuracy for the test dataset for the selected model is : {:.2f}%\".format(test_accuracy) )"
   ]
  },
  {
   "cell_type": "markdown",
   "metadata": {},
   "source": [
    "<font color = red> ***- It looks like the value of k=25 is the value that produces the best classification accuracy\n",
    "<br>- If we increase the number of k the accuracy seems to either stay the same or increase, and that's because the model becomes too generalized and chooses only values that are closest to the data sample, and so this results in a very complex decision boundary\n",
    "<br>- The performance of the model on the training data is about 78%, which is much better than all the previously trained models, however, for the unseen data the accuracy is 76% .A higher accuracy for training data is rather normal because the model has already seen the different patterns that exist in that dataset, however maybe by tuning other hyperparameters we can improve our test set accuracy***"
   ]
  },
  {
   "cell_type": "markdown",
   "metadata": {
    "id": "9r2v1LEDoDw6"
   },
   "source": [
    "________________\n",
    "## <font color = red>  4. Testing with training data <font color = red> (this should *never* be done out of this exercise!) </font>"
   ]
  },
  {
   "cell_type": "markdown",
   "metadata": {
    "id": "j6B6L5HWoDw6"
   },
   "source": [
    "Oh, but what if we just used the ***whole data*** in training? Wouldn't we like to use as much data as possible to discover the underlying pattern in the data so why **not** to use the whole data?\n",
    "\n",
    "*Never ever* do this out of this exercise. Why? Let's take a look.\n",
    "\n",
    "***Exercise 4***\n",
    "\n",
    "Repeat the previous task but use the whole data for training. Plot the resulting classification accuracy versus $k = 1...30$. Include the values from the previous task in the *same figure*.\n",
    "\n",
    "- Comment your result and answer, why you should not test with training data?"
   ]
  },
  {
   "cell_type": "code",
   "execution_count": 133,
   "metadata": {
    "id": "ExWjmjQ5oDw6",
    "outputId": "f7bd8eac-a636-400b-a8a4-9ca269129628"
   },
   "outputs": [
    {
     "name": "stdout",
     "output_type": "stream",
     "text": [
      "Fitting 1000 folds for each of 30 candidates, totalling 30000 fits\n"
     ]
    },
    {
     "data": {
      "text/plain": [
       "{'n_neighbors': 8}"
      ]
     },
     "execution_count": 133,
     "metadata": {},
     "output_type": "execute_result"
    }
   ],
   "source": [
    "### Code - Train with whole data\n",
    "### Code - Select best k\n",
    "  \n",
    "grid_data_all = GridSearchCV(KNeighborsClassifier(), dict(n_neighbors=list(range(1, 31))), \n",
    "                             cv=cv, scoring='accuracy', return_train_score=False,verbose=1)\n",
    "  \n",
    "grid_data_all.fit(features_scaled, labels)\n",
    "grid_data_all.best_params_"
   ]
  },
  {
   "cell_type": "code",
   "execution_count": 134,
   "metadata": {},
   "outputs": [
    {
     "name": "stdout",
     "output_type": "stream",
     "text": [
      "Accuracy of the model trained on the entire dataset : 78.00%\n"
     ]
    }
   ],
   "source": [
    "accuracy_data_all = grid_data_all.best_score_ *100\n",
    "print(\"Accuracy of the model trained on the entire dataset : {:.2f}%\".format(accuracy_data_all) )"
   ]
  },
  {
   "cell_type": "code",
   "execution_count": 138,
   "metadata": {},
   "outputs": [
    {
     "name": "stdout",
     "output_type": "stream",
     "text": [
      "Accuracy for testing with training data for the selected model is : 0.81%\n"
     ]
    }
   ],
   "source": [
    "#testing with training data\n",
    "knn_data_all = KNeighborsClassifier(n_neighbors=8)\n",
    "\n",
    "knn_data_all.fit(features_scaled, labels)\n",
    "\n",
    "test_accuracy = knn_data_all.score(features_scaled, labels)\n",
    "\n",
    "print(\"Accuracy for testing with training data for the selected model is : {:.2f}%\".format(test_accuracy) )"
   ]
  },
  {
   "cell_type": "code",
   "execution_count": 135,
   "metadata": {},
   "outputs": [],
   "source": [
    "grid_cv_all = pd.DataFrame(grid_data_all.cv_results_)[['param_n_neighbors','mean_test_score']]"
   ]
  },
  {
   "cell_type": "code",
   "execution_count": 136,
   "metadata": {},
   "outputs": [
    {
     "data": {
      "text/plain": [
       "<matplotlib.legend.Legend at 0x1f950a731f0>"
      ]
     },
     "execution_count": 136,
     "metadata": {},
     "output_type": "execute_result"
    },
    {
     "data": {
      "image/png": "[encoded data removed]",
      "text/plain": [
       "<Figure size 432x288 with 1 Axes>"
      ]
     },
     "metadata": {
      "needs_background": "light"
     },
     "output_type": "display_data"
    }
   ],
   "source": [
    "### Code - Plot results\n",
    "plt.plot(grid_cv_all['param_n_neighbors'], grid_cv_all['mean_test_score'], label= 'Cross validation with whole data')\n",
    "plt.plot(grid_cv['param_n_neighbors'], grid_cv['mean_test_score'], label= 'Cross validation with training data')\n",
    "plt.legend()"
   ]
  },
  {
   "cell_type": "markdown",
   "metadata": {},
   "source": [
    " <font color = red> ***While we can notice from the plot that the fluctuations of the result do not differ that much, mainly because our data size is fairly small so comparing the performance on a 1000 observations data-set wouldn't differ much when comparing it to the performance on a 800 observations data-set. The main issue here is when we see a 81% accuracy for the test data, because the model is already familiar with the data it is overfitted to its patterns, this is why it is important to split our data and test the model on 'unseen' data***"
   ]
  },
  {
   "cell_type": "markdown",
   "metadata": {},
   "source": [
    "_____________________\n",
    "\n",
    "## <font color = darkorange> 5. Comparison of ridge regression and kNN regression </font>"
   ]
  },
  {
   "cell_type": "markdown",
   "metadata": {},
   "source": [
    "The previous exercises were about classification. Now, we are ready to see another kind of supervised learning - regression. We're going to use <font color = darkorchid><b>Ridge Regression</b></font> and <font color = darkorchid><b>K-Nearest Neighbors Regression</b></font>, and compare the performances of these models."
   ]
  },
  {
   "cell_type": "markdown",
   "metadata": {},
   "source": [
    "To make this exercise more intuitively, let's change the data to another somewhat famous dataset called *The Boston Housing Dataset*. The Boston Housing Dataset is a derived from information collected by the U.S. Census Service concerning housing in the area of Boston, Massachusetts. Let's have a quick peek at the variables:\n",
    "\n",
    "- **CRIM** - per capita crime rate by town\n",
    "- **ZN** - proportion of residential land zoned for lots over 25,000 sq.ft.\n",
    "- **INDUS** - proportion of non-retail business acres per town.\n",
    "- **CHAS** - Charles River dummy variable (1 if tract bounds river; 0 otherwise)\n",
    "- **NOX** - nitric oxides concentration (parts per 10 million)\n",
    "- **RM** - average number of rooms per dwelling\n",
    "- **AGE** - proportion of owner-occupied units built prior to 1940\n",
    "- **DIS** - weighted distances to five Boston employment centres\n",
    "- **RAD** - index of accessibility to radial highways\n",
    "- **TAX** - full-value property-tax rate per \\$10,000\n",
    "- **PTRATIO** - pupil-teacher ratio by town\n",
    "- **B** - 1000(Bk - 0.63)^2 where Bk is the proportion of blacks by town\n",
    "- **LSTAT** - % lower status of the population\n",
    "- **MEDV** - Median value of owner-occupied homes in \\$1000's\n",
    "\n",
    "\n",
    "No worries if the variables don't make a lot of sense. However, the object is to predict **the median house value**. So the target variable is now <font color = darkorchid><b>MEDV</b></font> and all the others are <font color = darkorchid><b>features</b></font>.\n",
    "\n",
    "There's the code chunk for loading data provided again. <font color = red>Again, the data file should be located in the same directory as this notebook file!</font>"
   ]
  },
  {
   "cell_type": "code",
   "execution_count": 139,
   "metadata": {},
   "outputs": [],
   "source": [
    "### Loading code provided\n",
    "# ------------------------------------------------------\n",
    "# The data file should be at the same location than the \n",
    "# exercise file to make sure the following lines work!\n",
    "# Otherwise, fix the path.\n",
    "# ------------------------------------------------------\n",
    "\n",
    "# Data path\n",
    "data_path = 'ex2_boston_housing_data.csv'\n",
    "\n",
    "# Load the data \n",
    "boston_data = pd.read_csv(data_path, dtype='float')"
   ]
  },
  {
   "cell_type": "markdown",
   "metadata": {},
   "source": [
    "-----------\n",
    "\n",
    "With regression, we can examine **the relationship between two or more variables**. This relationship is represented by an *equation*, which itself represents how much y changes with any given change of x. So for example, we could use *age* as an independent variable to predict *height* (a dependent variable). \n",
    "\n",
    "We start by looking at the relationships between the variables in the given dataset.\n",
    "\n",
    "\n",
    "***Exercise 5 A)***\n",
    "\n",
    "Make scatter plots where you present each feature versus the target variable `MEDV`.\n",
    "\n",
    "- What can you say about the relationships?\n",
    "\n",
    "*tip: seaborn.pairplot is quite a handy function where you can set x_vars and y_vars to point out the variables you need*"
   ]
  },
  {
   "cell_type": "code",
   "execution_count": 140,
   "metadata": {
    "scrolled": true
   },
   "outputs": [
    {
     "data": {
      "text/plain": [
       "<seaborn.axisgrid.PairGrid at 0x1f950014760>"
      ]
     },
     "execution_count": 140,
     "metadata": {},
     "output_type": "execute_result"
    },
    {
     "data": {
      "image/png": "[encoded data removed]",
      "text/plain": [
       "<Figure size 180x2340 with 13 Axes>"
      ]
     },
     "metadata": {
      "needs_background": "light"
     },
     "output_type": "display_data"
    }
   ],
   "source": [
    "### Code - Scatter plots\n",
    "features_boston = boston_data.drop('MEDV', axis=1)\n",
    "labels_boston = boston_data['MEDV']\n",
    "sns.pairplot(data=boston_data, x_vars=['MEDV'], y_vars=features_boston.columns)"
   ]
  },
  {
   "cell_type": "markdown",
   "metadata": {},
   "source": [
    "<font color = red>***- Based on the pairplot above, we can notice that the columns LSTAT, RM have a strong relationship with the target variable, with RM having a positive relation and LSTAT having a negative one\n",
    "    <br>- Some other variables such as CRIM, NOX, INDUS, and DIS seem to show a weaker relationship with MEDV\n",
    "    <br>- While other variables like ZN, AGE, TAX, and PTRATIO don't seem to show a visual relationship*** </font> "
   ]
  },
  {
   "cell_type": "markdown",
   "metadata": {},
   "source": [
    "------\n",
    "\n",
    "We are about to compare two different regression models. We need to be sure that both are *the best models* among the other trained models. But to make sure that these selected models really are the best ones, we're going to use a combination of cross-validation and hyperparameter tuning right away. What's the other way to ensure that the chosen hyperparameters are appropriate for the given data?\n",
    "\n",
    "For the k-Nearest neighbors, we have previously get familiar with the optimization of the k value. Let's continue with this value to find the *optimal k* for the k-nearest neighbors regression too. With ridge regression, we have this hyperparameter called $\\lambda$ (read as 'lambda'). We'll use this parameter for model selection.\n",
    "\n",
    "\n",
    "To compare the models, let's use a loss function called <font color = darkorchid><b>mean absolute error (MAE)</b></font>. "
   ]
  },
  {
   "cell_type": "markdown",
   "metadata": {},
   "source": [
    "\n",
    "\n",
    "***Exercise 5 B)***\n",
    "\n",
    "Do you need to prepare the data a little? Explain your decision."
   ]
  },
  {
   "cell_type": "code",
   "execution_count": 57,
   "metadata": {},
   "outputs": [
    {
     "data": {
      "text/html": [
       "<div>\n",
       "<style scoped>\n",
       "    .dataframe tbody tr th:only-of-type {\n",
       "        vertical-align: middle;\n",
       "    }\n",
       "\n",
       "    .dataframe tbody tr th {\n",
       "        vertical-align: top;\n",
       "    }\n",
       "\n",
       "    .dataframe thead th {\n",
       "        text-align: right;\n",
       "    }\n",
       "</style>\n",
       "<table border=\"1\" class=\"dataframe\">\n",
       "  <thead>\n",
       "    <tr style=\"text-align: right;\">\n",
       "      <th></th>\n",
       "      <th>CRIM</th>\n",
       "      <th>ZN</th>\n",
       "      <th>INDUS</th>\n",
       "      <th>CHAS</th>\n",
       "      <th>NOX</th>\n",
       "      <th>RM</th>\n",
       "      <th>AGE</th>\n",
       "      <th>DIS</th>\n",
       "      <th>RAD</th>\n",
       "      <th>TAX</th>\n",
       "      <th>PTRATIO</th>\n",
       "      <th>B</th>\n",
       "      <th>LSTAT</th>\n",
       "      <th>MEDV</th>\n",
       "    </tr>\n",
       "  </thead>\n",
       "  <tbody>\n",
       "    <tr>\n",
       "      <th>count</th>\n",
       "      <td>467.000000</td>\n",
       "      <td>467.000000</td>\n",
       "      <td>467.000000</td>\n",
       "      <td>467.000000</td>\n",
       "      <td>467.000000</td>\n",
       "      <td>467.000000</td>\n",
       "      <td>467.000000</td>\n",
       "      <td>467.000000</td>\n",
       "      <td>467.000000</td>\n",
       "      <td>467.000000</td>\n",
       "      <td>467.000000</td>\n",
       "      <td>467.000000</td>\n",
       "      <td>467.000000</td>\n",
       "      <td>467.000000</td>\n",
       "    </tr>\n",
       "    <tr>\n",
       "      <th>mean</th>\n",
       "      <td>2.859473</td>\n",
       "      <td>10.825482</td>\n",
       "      <td>11.178758</td>\n",
       "      <td>0.059957</td>\n",
       "      <td>0.554025</td>\n",
       "      <td>6.203176</td>\n",
       "      <td>68.283084</td>\n",
       "      <td>3.861389</td>\n",
       "      <td>9.400428</td>\n",
       "      <td>407.528908</td>\n",
       "      <td>18.581799</td>\n",
       "      <td>357.492741</td>\n",
       "      <td>13.047259</td>\n",
       "      <td>21.113490</td>\n",
       "    </tr>\n",
       "    <tr>\n",
       "      <th>std</th>\n",
       "      <td>5.204950</td>\n",
       "      <td>22.435436</td>\n",
       "      <td>6.810618</td>\n",
       "      <td>0.237662</td>\n",
       "      <td>0.117089</td>\n",
       "      <td>0.591121</td>\n",
       "      <td>28.062858</td>\n",
       "      <td>2.113944</td>\n",
       "      <td>8.657791</td>\n",
       "      <td>167.120323</td>\n",
       "      <td>2.061196</td>\n",
       "      <td>89.711000</td>\n",
       "      <td>6.872562</td>\n",
       "      <td>6.656016</td>\n",
       "    </tr>\n",
       "    <tr>\n",
       "      <th>min</th>\n",
       "      <td>0.006320</td>\n",
       "      <td>0.000000</td>\n",
       "      <td>0.740000</td>\n",
       "      <td>0.000000</td>\n",
       "      <td>0.385000</td>\n",
       "      <td>3.561000</td>\n",
       "      <td>2.900000</td>\n",
       "      <td>1.137000</td>\n",
       "      <td>1.000000</td>\n",
       "      <td>187.000000</td>\n",
       "      <td>12.600000</td>\n",
       "      <td>0.320000</td>\n",
       "      <td>1.980000</td>\n",
       "      <td>5.600000</td>\n",
       "    </tr>\n",
       "    <tr>\n",
       "      <th>25%</th>\n",
       "      <td>0.082100</td>\n",
       "      <td>0.000000</td>\n",
       "      <td>5.190000</td>\n",
       "      <td>0.000000</td>\n",
       "      <td>0.449000</td>\n",
       "      <td>5.879500</td>\n",
       "      <td>44.700000</td>\n",
       "      <td>2.122300</td>\n",
       "      <td>4.000000</td>\n",
       "      <td>281.000000</td>\n",
       "      <td>17.400000</td>\n",
       "      <td>375.955000</td>\n",
       "      <td>7.580000</td>\n",
       "      <td>16.800000</td>\n",
       "    </tr>\n",
       "    <tr>\n",
       "      <th>50%</th>\n",
       "      <td>0.228760</td>\n",
       "      <td>0.000000</td>\n",
       "      <td>9.690000</td>\n",
       "      <td>0.000000</td>\n",
       "      <td>0.538000</td>\n",
       "      <td>6.169000</td>\n",
       "      <td>76.700000</td>\n",
       "      <td>3.317500</td>\n",
       "      <td>5.000000</td>\n",
       "      <td>330.000000</td>\n",
       "      <td>19.100000</td>\n",
       "      <td>392.110000</td>\n",
       "      <td>11.980000</td>\n",
       "      <td>20.800000</td>\n",
       "    </tr>\n",
       "    <tr>\n",
       "      <th>75%</th>\n",
       "      <td>3.504645</td>\n",
       "      <td>12.500000</td>\n",
       "      <td>18.100000</td>\n",
       "      <td>0.000000</td>\n",
       "      <td>0.624000</td>\n",
       "      <td>6.539000</td>\n",
       "      <td>93.850000</td>\n",
       "      <td>5.266000</td>\n",
       "      <td>24.000000</td>\n",
       "      <td>666.000000</td>\n",
       "      <td>20.200000</td>\n",
       "      <td>396.900000</td>\n",
       "      <td>17.115000</td>\n",
       "      <td>24.350000</td>\n",
       "    </tr>\n",
       "    <tr>\n",
       "      <th>max</th>\n",
       "      <td>28.655800</td>\n",
       "      <td>100.000000</td>\n",
       "      <td>27.740000</td>\n",
       "      <td>1.000000</td>\n",
       "      <td>0.871000</td>\n",
       "      <td>8.780000</td>\n",
       "      <td>100.000000</td>\n",
       "      <td>12.126500</td>\n",
       "      <td>24.000000</td>\n",
       "      <td>711.000000</td>\n",
       "      <td>22.000000</td>\n",
       "      <td>396.900000</td>\n",
       "      <td>37.970000</td>\n",
       "      <td>39.800000</td>\n",
       "    </tr>\n",
       "  </tbody>\n",
       "</table>\n",
       "</div>"
      ],
      "text/plain": [
       "             CRIM          ZN       INDUS        CHAS         NOX          RM  \\\n",
       "count  467.000000  467.000000  467.000000  467.000000  467.000000  467.000000   \n",
       "mean     2.859473   10.825482   11.178758    0.059957    0.554025    6.203176   \n",
       "std      5.204950   22.435436    6.810618    0.237662    0.117089    0.591121   \n",
       "min      0.006320    0.000000    0.740000    0.000000    0.385000    3.561000   \n",
       "25%      0.082100    0.000000    5.190000    0.000000    0.449000    5.879500   \n",
       "50%      0.228760    0.000000    9.690000    0.000000    0.538000    6.169000   \n",
       "75%      3.504645   12.500000   18.100000    0.000000    0.624000    6.539000   \n",
       "max     28.655800  100.000000   27.740000    1.000000    0.871000    8.780000   \n",
       "\n",
       "              AGE         DIS         RAD         TAX     PTRATIO           B  \\\n",
       "count  467.000000  467.000000  467.000000  467.000000  467.000000  467.000000   \n",
       "mean    68.283084    3.861389    9.400428  407.528908   18.581799  357.492741   \n",
       "std     28.062858    2.113944    8.657791  167.120323    2.061196   89.711000   \n",
       "min      2.900000    1.137000    1.000000  187.000000   12.600000    0.320000   \n",
       "25%     44.700000    2.122300    4.000000  281.000000   17.400000  375.955000   \n",
       "50%     76.700000    3.317500    5.000000  330.000000   19.100000  392.110000   \n",
       "75%     93.850000    5.266000   24.000000  666.000000   20.200000  396.900000   \n",
       "max    100.000000   12.126500   24.000000  711.000000   22.000000  396.900000   \n",
       "\n",
       "            LSTAT        MEDV  \n",
       "count  467.000000  467.000000  \n",
       "mean    13.047259   21.113490  \n",
       "std      6.872562    6.656016  \n",
       "min      1.980000    5.600000  \n",
       "25%      7.580000   16.800000  \n",
       "50%     11.980000   20.800000  \n",
       "75%     17.115000   24.350000  \n",
       "max     37.970000   39.800000  "
      ]
     },
     "execution_count": 57,
     "metadata": {},
     "output_type": "execute_result"
    }
   ],
   "source": [
    "### Code - Preparation\n",
    "boston_data.describe()"
   ]
  },
  {
   "cell_type": "markdown",
   "metadata": {},
   "source": [
    "<font color = red>***Yes, it looks like the variables are on different scales, meaning that we need to perform a standardization*** </font> "
   ]
  },
  {
   "cell_type": "code",
   "execution_count": 142,
   "metadata": {},
   "outputs": [],
   "source": [
    "X_train_boston, X_test_boston, y_train_boston, y_test_boston = train_test_split(features_boston, labels_boston, test_size=0.2)"
   ]
  },
  {
   "cell_type": "code",
   "execution_count": 155,
   "metadata": {},
   "outputs": [],
   "source": [
    "#scaling the feautures\n",
    "X_train_boston_index = X_train_boston.index\n",
    "X_test_boston_index = X_test_boston.index\n",
    "\n",
    "scaler_boston = StandardScaler()\n",
    "X_train_boston = pd.DataFrame(scaler_boston.fit_transform(X_train_boston), columns=X_train_boston.columns)\n",
    "X_test_boston = pd.DataFrame(scaler_boston.fit_transform(X_test_boston), columns=X_test_boston.columns)\n",
    "X_train_boston.set_index(X_train_boston_index, inplace=True)\n",
    "X_test_boston.set_index(X_test_boston_index, inplace=True)"
   ]
  },
  {
   "cell_type": "markdown",
   "metadata": {},
   "source": [
    "------\n",
    "\n",
    "***Exercise 5 C)***\n",
    "\n",
    "Then, train a ridge regression model  and a k-NN regression model. For hyperparameters, use $\\lambda=2^{-10}...2^{10}$ and $k=1...30$. Once again, use leave-one-out cross validation.\n",
    "\n",
    "- What are the total performances of each model and how they compare with each other? \n",
    "- What does the MAE tell you about the performances of your models and in general?\n",
    "\n",
    "*note: In a `sklearn.linear_model.Ridge` class, lambda is called alpha so don't get confused*"
   ]
  },
  {
   "cell_type": "code",
   "execution_count": 157,
   "metadata": {},
   "outputs": [],
   "source": [
    "### Code - Ridge regression \n",
    "l_ridge  = Ridge()\n",
    "grid_ridge = GridSearchCV(l_ridge, {'alpha': [2**i for i in range(-10,11)]}, cv=cv, scoring='neg_mean_squared_error')\n",
    "grid_search_ridge = grid_ridge.fit(X_train_boston, y_train_boston)"
   ]
  },
  {
   "cell_type": "code",
   "execution_count": 162,
   "metadata": {},
   "outputs": [
    {
     "data": {
      "text/plain": [
       "{'alpha': 4}"
      ]
     },
     "execution_count": 162,
     "metadata": {},
     "output_type": "execute_result"
    }
   ],
   "source": [
    "grid_search_ridge.best_params_"
   ]
  },
  {
   "cell_type": "code",
   "execution_count": 161,
   "metadata": {},
   "outputs": [
    {
     "data": {
      "text/html": [
       "<div>\n",
       "<style scoped>\n",
       "    .dataframe tbody tr th:only-of-type {\n",
       "        vertical-align: middle;\n",
       "    }\n",
       "\n",
       "    .dataframe tbody tr th {\n",
       "        vertical-align: top;\n",
       "    }\n",
       "\n",
       "    .dataframe thead th {\n",
       "        text-align: right;\n",
       "    }\n",
       "</style>\n",
       "<table border=\"1\" class=\"dataframe\">\n",
       "  <thead>\n",
       "    <tr style=\"text-align: right;\">\n",
       "      <th></th>\n",
       "      <th>param_alpha</th>\n",
       "      <th>mean_test_score</th>\n",
       "    </tr>\n",
       "  </thead>\n",
       "  <tbody>\n",
       "    <tr>\n",
       "      <th>12</th>\n",
       "      <td>4</td>\n",
       "      <td>-11.087513</td>\n",
       "    </tr>\n",
       "    <tr>\n",
       "      <th>11</th>\n",
       "      <td>2</td>\n",
       "      <td>-11.092061</td>\n",
       "    </tr>\n",
       "    <tr>\n",
       "      <th>13</th>\n",
       "      <td>8</td>\n",
       "      <td>-11.093651</td>\n",
       "    </tr>\n",
       "    <tr>\n",
       "      <th>10</th>\n",
       "      <td>1</td>\n",
       "      <td>-11.097206</td>\n",
       "    </tr>\n",
       "    <tr>\n",
       "      <th>9</th>\n",
       "      <td>0.5</td>\n",
       "      <td>-11.100681</td>\n",
       "    </tr>\n",
       "    <tr>\n",
       "      <th>8</th>\n",
       "      <td>0.25</td>\n",
       "      <td>-11.102673</td>\n",
       "    </tr>\n",
       "    <tr>\n",
       "      <th>7</th>\n",
       "      <td>0.125</td>\n",
       "      <td>-11.103737</td>\n",
       "    </tr>\n",
       "    <tr>\n",
       "      <th>6</th>\n",
       "      <td>0.0625</td>\n",
       "      <td>-11.104286</td>\n",
       "    </tr>\n",
       "    <tr>\n",
       "      <th>5</th>\n",
       "      <td>0.03125</td>\n",
       "      <td>-11.104565</td>\n",
       "    </tr>\n",
       "    <tr>\n",
       "      <th>4</th>\n",
       "      <td>0.015625</td>\n",
       "      <td>-11.104706</td>\n",
       "    </tr>\n",
       "  </tbody>\n",
       "</table>\n",
       "</div>"
      ],
      "text/plain": [
       "   param_alpha  mean_test_score\n",
       "12           4       -11.087513\n",
       "11           2       -11.092061\n",
       "13           8       -11.093651\n",
       "10           1       -11.097206\n",
       "9          0.5       -11.100681\n",
       "8         0.25       -11.102673\n",
       "7        0.125       -11.103737\n",
       "6       0.0625       -11.104286\n",
       "5      0.03125       -11.104565\n",
       "4     0.015625       -11.104706"
      ]
     },
     "execution_count": 161,
     "metadata": {},
     "output_type": "execute_result"
    }
   ],
   "source": [
    "grid_cv_ridge = pd.DataFrame(grid_search_ridge.cv_results_)[['param_alpha','mean_test_score']]\n",
    "grid_cv_ridge.sort_values('mean_test_score', ascending=False).head(10)"
   ]
  },
  {
   "cell_type": "code",
   "execution_count": 163,
   "metadata": {},
   "outputs": [
    {
     "data": {
      "text/plain": [
       "0.7279615487271789"
      ]
     },
     "execution_count": 163,
     "metadata": {},
     "output_type": "execute_result"
    }
   ],
   "source": [
    "# train the model on the best param_alpha\n",
    "best_ridge = Ridge(alpha=4)\n",
    "best_ridge.fit(X_train_boston, y_train_boston)\n",
    "best_ridge.score(X_test_boston, y_test_boston)"
   ]
  },
  {
   "cell_type": "code",
   "execution_count": 165,
   "metadata": {},
   "outputs": [
    {
     "data": {
      "text/plain": [
       "2.7119292684601324"
      ]
     },
     "execution_count": 165,
     "metadata": {},
     "output_type": "execute_result"
    }
   ],
   "source": [
    "# calculate the MAE\n",
    "predS = best_ridge.predict(X_test_boston)\n",
    "metrics.mean_absolute_error(y_test_boston, predS)"
   ]
  },
  {
   "cell_type": "code",
   "execution_count": 166,
   "metadata": {},
   "outputs": [],
   "source": [
    "# k-NN regression\n",
    "grid_knn_reg = GridSearchCV(KNeighborsRegressor(), {'n_neighbors': list(range(1,31))}, cv=cv, scoring='neg_mean_squared_error')\n",
    "grid_search_knn_reg = grid_knn_reg.fit(X_train_boston, y_train_boston)"
   ]
  },
  {
   "cell_type": "code",
   "execution_count": 167,
   "metadata": {},
   "outputs": [
    {
     "data": {
      "text/plain": [
       "{'n_neighbors': 3}"
      ]
     },
     "execution_count": 167,
     "metadata": {},
     "output_type": "execute_result"
    }
   ],
   "source": [
    "grid_search_knn_reg.best_params_"
   ]
  },
  {
   "cell_type": "code",
   "execution_count": 168,
   "metadata": {},
   "outputs": [
    {
     "data": {
      "text/html": [
       "<div>\n",
       "<style scoped>\n",
       "    .dataframe tbody tr th:only-of-type {\n",
       "        vertical-align: middle;\n",
       "    }\n",
       "\n",
       "    .dataframe tbody tr th {\n",
       "        vertical-align: top;\n",
       "    }\n",
       "\n",
       "    .dataframe thead th {\n",
       "        text-align: right;\n",
       "    }\n",
       "</style>\n",
       "<table border=\"1\" class=\"dataframe\">\n",
       "  <thead>\n",
       "    <tr style=\"text-align: right;\">\n",
       "      <th></th>\n",
       "      <th>param_n_neighbors</th>\n",
       "      <th>mean_test_score</th>\n",
       "    </tr>\n",
       "  </thead>\n",
       "  <tbody>\n",
       "    <tr>\n",
       "      <th>2</th>\n",
       "      <td>3</td>\n",
       "      <td>-9.151266</td>\n",
       "    </tr>\n",
       "    <tr>\n",
       "      <th>3</th>\n",
       "      <td>4</td>\n",
       "      <td>-9.274742</td>\n",
       "    </tr>\n",
       "    <tr>\n",
       "      <th>4</th>\n",
       "      <td>5</td>\n",
       "      <td>-9.340631</td>\n",
       "    </tr>\n",
       "    <tr>\n",
       "      <th>1</th>\n",
       "      <td>2</td>\n",
       "      <td>-9.404323</td>\n",
       "    </tr>\n",
       "    <tr>\n",
       "      <th>5</th>\n",
       "      <td>6</td>\n",
       "      <td>-9.949932</td>\n",
       "    </tr>\n",
       "    <tr>\n",
       "      <th>6</th>\n",
       "      <td>7</td>\n",
       "      <td>-10.040985</td>\n",
       "    </tr>\n",
       "    <tr>\n",
       "      <th>8</th>\n",
       "      <td>9</td>\n",
       "      <td>-10.139020</td>\n",
       "    </tr>\n",
       "    <tr>\n",
       "      <th>7</th>\n",
       "      <td>8</td>\n",
       "      <td>-10.180692</td>\n",
       "    </tr>\n",
       "    <tr>\n",
       "      <th>9</th>\n",
       "      <td>10</td>\n",
       "      <td>-10.285794</td>\n",
       "    </tr>\n",
       "    <tr>\n",
       "      <th>10</th>\n",
       "      <td>11</td>\n",
       "      <td>-10.687326</td>\n",
       "    </tr>\n",
       "  </tbody>\n",
       "</table>\n",
       "</div>"
      ],
      "text/plain": [
       "   param_n_neighbors  mean_test_score\n",
       "2                  3        -9.151266\n",
       "3                  4        -9.274742\n",
       "4                  5        -9.340631\n",
       "1                  2        -9.404323\n",
       "5                  6        -9.949932\n",
       "6                  7       -10.040985\n",
       "8                  9       -10.139020\n",
       "7                  8       -10.180692\n",
       "9                 10       -10.285794\n",
       "10                11       -10.687326"
      ]
     },
     "execution_count": 168,
     "metadata": {},
     "output_type": "execute_result"
    }
   ],
   "source": [
    "grid_cv_knn = pd.DataFrame(grid_search_knn_reg.cv_results_)[['param_n_neighbors', 'mean_test_score']]\n",
    "grid_cv_knn.sort_values('mean_test_score', ascending=False).head(10)"
   ]
  },
  {
   "cell_type": "code",
   "execution_count": 169,
   "metadata": {},
   "outputs": [
    {
     "data": {
      "text/plain": [
       "0.7838239818876447"
      ]
     },
     "execution_count": 169,
     "metadata": {},
     "output_type": "execute_result"
    }
   ],
   "source": [
    "knnreg = KNeighborsRegressor(n_neighbors=3)\n",
    "knnreg.fit(X_train_boston, y_train_boston)\n",
    "knnreg.score(X_test_boston, y_test_boston)"
   ]
  },
  {
   "cell_type": "code",
   "execution_count": 170,
   "metadata": {},
   "outputs": [
    {
     "data": {
      "text/plain": [
       "2.5106382978723403"
      ]
     },
     "execution_count": 170,
     "metadata": {},
     "output_type": "execute_result"
    }
   ],
   "source": [
    "pred_knn = knnreg.predict(X_test_boston)\n",
    "metrics.mean_absolute_error(y_test_boston, pred_knn)"
   ]
  },
  {
   "cell_type": "markdown",
   "metadata": {},
   "source": [
    "<font color = red>\\***For the evaluation of regression models, we use the MAE metric, that tells us the mean absolute difference between the predicted values and the actual values in a dataset, so there isn't a general range on which we can interpret the MAE on its own, but it can be helpfull to compare different models, and in that case the smaller the error the better. In ou example the knn regressor model had a lower MAE of 2.51 in compared to Ridge regressior with an MAE of 2.71, So we can conclude that in this case KNN performed better than Ridge.***</font>"
   ]
  },
  {
   "cell_type": "markdown",
   "metadata": {},
   "source": [
    "------\n",
    "\n",
    "We can say something about the performance now. One way to do the visualization is to plot actual labels vs predicted labels. Let's do that.\n",
    "\n",
    "\n",
    "***Exercise 5 D)***\n",
    "\n",
    "Using the best models found in the previous exercise, plot the actual labels vs. predicted labels. \n",
    "\n",
    "- How did the selected models perform?\n",
    "- In an ideal situation, where should the data points be located?"
   ]
  },
  {
   "cell_type": "code",
   "execution_count": 184,
   "metadata": {},
   "outputs": [
    {
     "data": {
      "image/png": "[encoded data removed]",
      "text/plain": [
       "<Figure size 432x288 with 1 Axes>"
      ]
     },
     "metadata": {
      "needs_background": "light"
     },
     "output_type": "display_data"
    }
   ],
   "source": [
    "### Code - Plot actual vs predicted labels\n",
    "plt.scatter(y_test_boston, predS,c='crimson')\n",
    "p1 = max(max(pred_knn), max(y_test_boston))\n",
    "p2 = min(min(pred_knn), min(y_test_boston))\n",
    "plt.plot([p1, p2], [p1, p2], 'b-')\n",
    "plt.xlabel('Actual Values', fontsize=15)\n",
    "plt.ylabel('Predictions', fontsize=15)\n",
    "plt.axis('equal')\n",
    "plt.title('Actual vs predicted labels - Ridge regression')\n",
    "plt.show()"
   ]
  },
  {
   "cell_type": "code",
   "execution_count": 185,
   "metadata": {},
   "outputs": [
    {
     "data": {
      "image/png": "[encoded data removed]",
      "text/plain": [
       "<Figure size 432x288 with 1 Axes>"
      ]
     },
     "metadata": {
      "needs_background": "light"
     },
     "output_type": "display_data"
    }
   ],
   "source": [
    "plt.scatter(y_test_boston, pred_knn, c='crimson')\n",
    "p1 = max(max(pred_knn), max(y_test_boston))\n",
    "p2 = min(min(pred_knn), min(y_test_boston))\n",
    "plt.plot([p1, p2], [p1, p2], 'b-')\n",
    "plt.xlabel('Actual Values', fontsize=15)\n",
    "plt.ylabel('Predictions', fontsize=15)\n",
    "plt.axis('equal')\n",
    "plt.title('Actual vs predicted labels - KNN regression')\n",
    "plt.show()"
   ]
  },
  {
   "cell_type": "markdown",
   "metadata": {},
   "source": [
    "<font color = red> ***All and all we can't really see a big difference between the models visually, as they both performed fairly well, however, we can see a slight improvement for the knn model as the Actual and predicted values are a bit closer and more cluttered on the line***"
   ]
  }
 ],
 "metadata": {
  "colab": {
   "name": "DADK2020_ex3_Valtteri_Nieminen.ipynb",
   "provenance": []
  },
  "kernelspec": {
   "display_name": "Python 3 (ipykernel)",
   "language": "python",
   "name": "python3"
  },
  "language_info": {
   "codemirror_mode": {
    "name": "ipython",
    "version": 3
   },
   "file_extension": ".py",
   "mimetype": "text/x-python",
   "name": "python",
   "nbconvert_exporter": "python",
   "pygments_lexer": "ipython3",
   "version": "3.10.12"
  },
  "toc": {
   "base_numbering": 1,
   "nav_menu": {
    "height": "180px",
    "width": "160px"
   },
   "number_sections": true,
   "sideBar": true,
   "skip_h1_title": true,
   "title_cell": "Table of Contents",
   "title_sidebar": "Contents",
   "toc_cell": false,
   "toc_position": {},
   "toc_section_display": true,
   "toc_window_display": false
  }
 },
 "nbformat": 4,
 "nbformat_minor": 4
}
