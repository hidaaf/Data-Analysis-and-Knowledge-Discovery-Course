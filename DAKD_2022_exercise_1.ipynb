{
 "cells": [
  {
   "cell_type": "markdown",
   "metadata": {},
   "source": [
    "<div class=\"alert alert-block alert-warning\">\n",
    "    <h1><center> DAKD 2022 EXERCISE 1: DATA UNDERSTANDING  </center></h1>"
   ]
  },
  {
   "cell_type": "markdown",
   "metadata": {},
   "source": [
    "This exercise relates to the _data understanding_ and  _data preparation_ stages of the Crisp Data Mining (CRISP-DM) model presented on the course. The questions at this stage of a data-analysis project are for example: \n",
    "\n",
    "- Is the data quality sufficient?\n",
    "- How can we check the data for problems?\n",
    "- How do we have to clean the data?\n",
    "- How is the data best transformed for modeling?\n",
    "\n",
    "It may be tempting to just run a model on data without checking it. However, not doing basic checks can ruin your whole analysis and make your results invalid as well as mislead you in further analyses. There is no excuse for not plotting and checking that the data is as we expect and clean. In this exercise we do just that, check the validity of data and familiarize ourselves with a dataset, also discussing preprocessing and multi-dimensional plotting. \n",
    " \n",
    "------------"
   ]
  },
  {
   "cell_type": "markdown",
   "metadata": {},
   "source": [
    "### <font color = red> *** FILL YOUR INFORMATION BELOW *** </font>\n",
    "Hiba Daafane <br>\n",
    "Student number : 2208046 <br>\n",
    "hidaaf@utu.fi  <br>\n",
    "Date : 14/11/2022  <br>"
   ]
  },
  {
   "cell_type": "markdown",
   "metadata": {
    "id": "W3jIT0S_3BPb"
   },
   "source": [
    "\n",
    "#### General guidance for exercises \n",
    "\n",
    "-  You can add more code and markup cells, as long as the flow of the notebook stays readable and logical.\n",
    "- Answer **all** questions (except the bonus if you do not want to attempt it), even if you can't get your script to fully work\n",
    "- Write clear and easily readable code, include explanations of what your code does\n",
    "- Make informative illustrations: include labels for x and y axes, legends and captions for your plots\n",
    "- Before saving the ipynb file (and possible printing) run: \"Restart & Run all\", to make sure you return a file that works as expected.\n",
    "- Grading: *Fail*/*Pass*/*Pass with honors* (+1)\n",
    "- If you encounter problems, Google first. If you can't find an answer to the problem, don't hesitate to ask in the Moodle discussion or directly via moodle chat.\n",
    "- Don't leave it to the last moment! No feedback service during weekends."
   ]
  },
  {
   "cell_type": "markdown",
   "metadata": {
    "id": "2I2WLapM3BPc"
   },
   "source": [
    "### <font color = red> Packages needed for this exercise: </font>\n",
    "- The exercise can be done without importing any extra packages, but you can import new ones but bear in mind that if you are importing many new packages, you may be complicating your answer. "
   ]
  },
  {
   "cell_type": "code",
   "execution_count": 103,
   "metadata": {
    "id": "kNsRA1WF3BPc"
   },
   "outputs": [],
   "source": [
    "# --- Libraries with a short description ---\n",
    "import pandas as pd # for data manipulation\n",
    "import matplotlib.pyplot as plt # for plotting\n",
    "import numpy as np #for numeric calculations and making simulated data.\n",
    "import seaborn as sns # for plotting, an extension on matplotlib \n",
    "\n",
    "# - sklearn has many data analysis utility functions like scaling as well as a large variety of modeling tools.\n",
    "from sklearn.decomposition import PCA \n",
    "from sklearn.preprocessing import StandardScaler\n",
    "from sklearn.preprocessing import minmax_scale\n",
    "from sklearn.preprocessing import scale\n",
    "from sklearn.manifold import TSNE\n",
    "\n",
    "# This forces plots to be shown inline in the notebook\n",
    "%matplotlib inline\n",
    "\n",
    "import warnings\n",
    "warnings.filterwarnings(\"ignore\", category=FutureWarning)\n",
    "\n",
    "plt.rc('axes', labelsize=14)"
   ]
  },
  {
   "cell_type": "markdown",
   "metadata": {},
   "source": [
    "\n",
    "<div class=\"alert alert-block alert-warning\">\n",
    "    <h1><center> START OF EXERCISES </center></h1>"
   ]
  },
  {
   "cell_type": "markdown",
   "metadata": {
    "id": "8AZs1Rdr3BPd"
   },
   "source": [
    "##  <font color = dimgrey> 1. Introduction to the dataset </font>"
   ]
  },
  {
   "cell_type": "markdown",
   "metadata": {
    "id": "2Y4dstDz3BPe"
   },
   "source": [
    "The exercise data depicts data gathered on hospital patients with and without cardiovascular disease, depicted by the target variable **_cardio_**, a common disease associated with a buildup of fatty deposits inside the arteries (blood vessels) of the heart. \n",
    " \n",
    " -------\n",
    "As is often the case with data analysis projects, the features/variables have been retrieved from different sources: \n",
    "- doctors notes (texts)\n",
    "- examination variables that have come from a database containing lab results or taken during a doctors examination\n",
    "- self reported variables\n",
    "\n",
    "--------------\n",
    "The exercise data has the following columns/attributes:\n",
    "\n",
    "| Feature | Type | Explanation |\n",
    "| :- | :- | :-\n",
    "| age | numeric | The age of the patient in days \n",
    "| sex | binary | Male/Female\n",
    "| weight | numeric | Measured weight of the patient (cm)\n",
    "| height | numeric | Measured weight of the patient (kg)\n",
    "| ap_hi | numeric | Measured Systolic blood pressure\n",
    "| ap_lo | numeric | Measured Diastolic blood pressure\n",
    "| smoke | binary | A subjective feature based on asking the patient whether or not he/she smokes\n",
    "| active | binary |  A subjective feature based on asking the patient whether or not he/she exercises regularly\n",
    "| cholesterol | categorical | Cholesterol associated risk information evaluated by a doctor\n",
    "| cardio | binary | Whether or not the patient has been diagnosed with cardiac disease."
   ]
  },
  {
   "cell_type": "markdown",
   "metadata": {
    "id": "jMatXBHE3BPh"
   },
   "source": [
    "-----------\n",
    "#### ***Reading data*** \n",
    "\n",
    "It is good practice to read the features in using their correct types instead of fixing them later. Below, there is ready-maed code for you to read in the data, using the data types and column names listed in the above table. Don't change the name of the variable, _data_. It is important in later exercises (for example in ex. 5e) that this is the name of the variable. <font color = red> If you have the dataset in the same folder as this notebook, the path already given to you should work. </font>\n",
    "\n",
    "---------------"
   ]
  },
  {
   "cell_type": "code",
   "execution_count": 109,
   "metadata": {},
   "outputs": [],
   "source": [
    "# --- READ IN DATA (no need to change) --------\n",
    "data_path = \"cardiovascular_disease_data_ex_1.csv\" #if you just give the name of the file it will look for the data in the same folder as your script\n",
    "data = pd.read_csv(data_path, dtype = {'age': 'int', 'height': 'int', 'weight':'int', 'ap_lo':'int', 'ap_hi':'int', 'sex': 'boolean', 'smoke': 'boolean',\n",
    "       'active':'boolean', 'cardio':'boolean', 'cholesterol':'category'}) #the main data you use in this exercise should have this variable name, so that code given for you further on will run. "
   ]
  },
  {
   "cell_type": "markdown",
   "metadata": {},
   "source": [
    "---------\n",
    "***Exercise 1 a)***\n",
    "1. First, print out the first five rows of the data.\n",
    "\n",
    "2. Then, save the feature names to lists by their types: make three lists named **numeric_features**, **binary_features** and **categorical_features**, containing the **names** of the features of each corresponding type (*you can think in terms of this exercise that binary variables can also be called booleans*).\n",
    "\n",
    "_Saving the feature names to a list or lists and using them to subset prevents typing errors and avoids repetition!_"
   ]
  },
  {
   "cell_type": "code",
   "execution_count": 110,
   "metadata": {},
   "outputs": [
    {
     "data": {
      "text/html": [
       "<div>\n",
       "<style scoped>\n",
       "    .dataframe tbody tr th:only-of-type {\n",
       "        vertical-align: middle;\n",
       "    }\n",
       "\n",
       "    .dataframe tbody tr th {\n",
       "        vertical-align: top;\n",
       "    }\n",
       "\n",
       "    .dataframe thead th {\n",
       "        text-align: right;\n",
       "    }\n",
       "</style>\n",
       "<table border=\"1\" class=\"dataframe\">\n",
       "  <thead>\n",
       "    <tr style=\"text-align: right;\">\n",
       "      <th></th>\n",
       "      <th>age</th>\n",
       "      <th>sex</th>\n",
       "      <th>height</th>\n",
       "      <th>weight</th>\n",
       "      <th>ap_hi</th>\n",
       "      <th>ap_lo</th>\n",
       "      <th>smoke</th>\n",
       "      <th>active</th>\n",
       "      <th>cardio</th>\n",
       "      <th>cholesterol</th>\n",
       "    </tr>\n",
       "  </thead>\n",
       "  <tbody>\n",
       "    <tr>\n",
       "      <th>0</th>\n",
       "      <td>19797</td>\n",
       "      <td>False</td>\n",
       "      <td>161</td>\n",
       "      <td>55</td>\n",
       "      <td>102</td>\n",
       "      <td>68</td>\n",
       "      <td>False</td>\n",
       "      <td>True</td>\n",
       "      <td>False</td>\n",
       "      <td>elevated</td>\n",
       "    </tr>\n",
       "    <tr>\n",
       "      <th>1</th>\n",
       "      <td>22571</td>\n",
       "      <td>True</td>\n",
       "      <td>178</td>\n",
       "      <td>68</td>\n",
       "      <td>120</td>\n",
       "      <td>70</td>\n",
       "      <td>False</td>\n",
       "      <td>False</td>\n",
       "      <td>False</td>\n",
       "      <td>normal</td>\n",
       "    </tr>\n",
       "    <tr>\n",
       "      <th>2</th>\n",
       "      <td>16621</td>\n",
       "      <td>True</td>\n",
       "      <td>169</td>\n",
       "      <td>69</td>\n",
       "      <td>120</td>\n",
       "      <td>80</td>\n",
       "      <td>False</td>\n",
       "      <td>True</td>\n",
       "      <td>False</td>\n",
       "      <td>normal</td>\n",
       "    </tr>\n",
       "    <tr>\n",
       "      <th>3</th>\n",
       "      <td>16688</td>\n",
       "      <td>False</td>\n",
       "      <td>156</td>\n",
       "      <td>77</td>\n",
       "      <td>120</td>\n",
       "      <td>80</td>\n",
       "      <td>False</td>\n",
       "      <td>True</td>\n",
       "      <td>False</td>\n",
       "      <td>normal</td>\n",
       "    </tr>\n",
       "    <tr>\n",
       "      <th>4</th>\n",
       "      <td>19498</td>\n",
       "      <td>True</td>\n",
       "      <td>170</td>\n",
       "      <td>98</td>\n",
       "      <td>130</td>\n",
       "      <td>80</td>\n",
       "      <td>True</td>\n",
       "      <td>True</td>\n",
       "      <td>True</td>\n",
       "      <td>elevated</td>\n",
       "    </tr>\n",
       "  </tbody>\n",
       "</table>\n",
       "</div>"
      ],
      "text/plain": [
       "     age    sex  height  weight  ap_hi  ap_lo  smoke  active  cardio  \\\n",
       "0  19797  False     161      55    102     68  False    True   False   \n",
       "1  22571   True     178      68    120     70  False   False   False   \n",
       "2  16621   True     169      69    120     80  False    True   False   \n",
       "3  16688  False     156      77    120     80  False    True   False   \n",
       "4  19498   True     170      98    130     80   True    True    True   \n",
       "\n",
       "  cholesterol  \n",
       "0    elevated  \n",
       "1      normal  \n",
       "2      normal  \n",
       "3      normal  \n",
       "4    elevated  "
      ]
     },
     "metadata": {},
     "output_type": "display_data"
    }
   ],
   "source": [
    "# --- Your code here for 1a) ---\n",
    "from IPython.display import display\n",
    "display(data.head())\n",
    "\n",
    "\n",
    "numeric_features = data.select_dtypes(include=np.number).columns.tolist()\n",
    "binary_features = data.select_dtypes('boolean').columns.to_list()\n",
    "categorical_features = data.select_dtypes('category').columns.to_list()"
   ]
  },
  {
   "cell_type": "markdown",
   "metadata": {},
   "source": [
    "_________\n",
    "## <font color = dimgrey> 2. Checking data quality\n",
    "    \n",
    "Often in data analysis projects the data has not been gathered exclusively for the data analysis only but originally for other reasons. Because of this, the features are most often not nicely formatted and may have mistakes. It might be tempting to just use the data as is with a model, but it is very important to first check the data for possible mistakes as they can make all the conclusions you make based on your analysis misleading. One good routine for checking data quality is to first calculate statistical descriptives and then to plot the features to check if the values are realistic. \n",
    "\n",
    "  \n",
    "-----------    \n",
    "    \n",
    "Some descriptive statistics don't really make sense for certain kinds of features. In pandas, like in many other packages, some functions work differently depending on the data type of a column. In the following exercise we will look at the data descriptive statistics as well as how the behavior can change when the data types are different. "
   ]
  },
  {
   "cell_type": "markdown",
   "metadata": {},
   "source": [
    "----------\n",
    "***2 a)***  Print out the data types of your dataset below.\n",
    "\n",
    "_Perhaps the most common data types in pandas (see https://pandas.pydata.org/docs/user_guide/basics.html#basics-dtypes) are **float**, **int**, **bool** and **category**._"
   ]
  },
  {
   "cell_type": "code",
   "execution_count": 111,
   "metadata": {},
   "outputs": [
    {
     "data": {
      "text/plain": [
       "age               int32\n",
       "sex             boolean\n",
       "height            int32\n",
       "weight            int32\n",
       "ap_hi             int32\n",
       "ap_lo             int32\n",
       "smoke           boolean\n",
       "active          boolean\n",
       "cardio          boolean\n",
       "cholesterol    category\n",
       "dtype: object"
      ]
     },
     "execution_count": 111,
     "metadata": {},
     "output_type": "execute_result"
    }
   ],
   "source": [
    "# --- 2a) Print the feature types of your dataset --- #\n",
    "data.dtypes"
   ]
  },
  {
   "cell_type": "markdown",
   "metadata": {},
   "source": [
    "--------\n",
    "***2 b)*** Use the **DataFrame.describe() method** in the cell below on your data.   \n"
   ]
  },
  {
   "cell_type": "code",
   "execution_count": 112,
   "metadata": {},
   "outputs": [
    {
     "data": {
      "text/html": [
       "<div>\n",
       "<style scoped>\n",
       "    .dataframe tbody tr th:only-of-type {\n",
       "        vertical-align: middle;\n",
       "    }\n",
       "\n",
       "    .dataframe tbody tr th {\n",
       "        vertical-align: top;\n",
       "    }\n",
       "\n",
       "    .dataframe thead th {\n",
       "        text-align: right;\n",
       "    }\n",
       "</style>\n",
       "<table border=\"1\" class=\"dataframe\">\n",
       "  <thead>\n",
       "    <tr style=\"text-align: right;\">\n",
       "      <th></th>\n",
       "      <th>age</th>\n",
       "      <th>height</th>\n",
       "      <th>weight</th>\n",
       "      <th>ap_hi</th>\n",
       "      <th>ap_lo</th>\n",
       "    </tr>\n",
       "  </thead>\n",
       "  <tbody>\n",
       "    <tr>\n",
       "      <th>count</th>\n",
       "      <td>210.000000</td>\n",
       "      <td>210.000000</td>\n",
       "      <td>210.000000</td>\n",
       "      <td>210.000000</td>\n",
       "      <td>210.000000</td>\n",
       "    </tr>\n",
       "    <tr>\n",
       "      <th>mean</th>\n",
       "      <td>19455.504762</td>\n",
       "      <td>164.180952</td>\n",
       "      <td>73.895238</td>\n",
       "      <td>127.857143</td>\n",
       "      <td>81.814286</td>\n",
       "    </tr>\n",
       "    <tr>\n",
       "      <th>std</th>\n",
       "      <td>2429.010199</td>\n",
       "      <td>7.534648</td>\n",
       "      <td>14.612326</td>\n",
       "      <td>17.508947</td>\n",
       "      <td>9.947652</td>\n",
       "    </tr>\n",
       "    <tr>\n",
       "      <th>min</th>\n",
       "      <td>14367.000000</td>\n",
       "      <td>142.000000</td>\n",
       "      <td>45.000000</td>\n",
       "      <td>90.000000</td>\n",
       "      <td>50.000000</td>\n",
       "    </tr>\n",
       "    <tr>\n",
       "      <th>25%</th>\n",
       "      <td>17635.750000</td>\n",
       "      <td>158.000000</td>\n",
       "      <td>64.000000</td>\n",
       "      <td>120.000000</td>\n",
       "      <td>80.000000</td>\n",
       "    </tr>\n",
       "    <tr>\n",
       "      <th>50%</th>\n",
       "      <td>19778.000000</td>\n",
       "      <td>164.000000</td>\n",
       "      <td>70.000000</td>\n",
       "      <td>120.000000</td>\n",
       "      <td>80.000000</td>\n",
       "    </tr>\n",
       "    <tr>\n",
       "      <th>75%</th>\n",
       "      <td>21230.500000</td>\n",
       "      <td>170.000000</td>\n",
       "      <td>81.000000</td>\n",
       "      <td>140.000000</td>\n",
       "      <td>90.000000</td>\n",
       "    </tr>\n",
       "    <tr>\n",
       "      <th>max</th>\n",
       "      <td>23565.000000</td>\n",
       "      <td>195.000000</td>\n",
       "      <td>125.000000</td>\n",
       "      <td>190.000000</td>\n",
       "      <td>120.000000</td>\n",
       "    </tr>\n",
       "  </tbody>\n",
       "</table>\n",
       "</div>"
      ],
      "text/plain": [
       "                age      height      weight       ap_hi       ap_lo\n",
       "count    210.000000  210.000000  210.000000  210.000000  210.000000\n",
       "mean   19455.504762  164.180952   73.895238  127.857143   81.814286\n",
       "std     2429.010199    7.534648   14.612326   17.508947    9.947652\n",
       "min    14367.000000  142.000000   45.000000   90.000000   50.000000\n",
       "25%    17635.750000  158.000000   64.000000  120.000000   80.000000\n",
       "50%    19778.000000  164.000000   70.000000  120.000000   80.000000\n",
       "75%    21230.500000  170.000000   81.000000  140.000000   90.000000\n",
       "max    23565.000000  195.000000  125.000000  190.000000  120.000000"
      ]
     },
     "execution_count": 112,
     "metadata": {},
     "output_type": "execute_result"
    }
   ],
   "source": [
    "# --- Your code for 2b) --- #\n",
    "data.describe()"
   ]
  },
  {
   "cell_type": "markdown",
   "metadata": {},
   "source": [
    "--------\n",
    "***2 c)*** Did you get all of the features statistics or not? What do you think happened? "
   ]
  },
  {
   "cell_type": "markdown",
   "metadata": {},
   "source": [
    "<font color = red> No, the method only provided statistics for the numeric columns, and that is because usually the default output of the DataFrame.describe() method when the data contains feautures with mixed types (numeric, categorical ...) is to provide descrptive statistics only for numeric variables </font>\n"
   ]
  },
  {
   "cell_type": "markdown",
   "metadata": {},
   "source": [
    "----------\n",
    "***2 d)*** Calculate descriptives for the binary (boolean) features and the categorical feature <br>\n",
    "\n",
    "_tip: in python, same type data structures can in many cases be concatenated using the + operator. If youre using the lists of names you created to subset, you can concatenate the two lists of feature names and use the resulting list to help you subset the dataframe_"
   ]
  },
  {
   "cell_type": "code",
   "execution_count": 113,
   "metadata": {},
   "outputs": [
    {
     "data": {
      "text/html": [
       "<div>\n",
       "<style scoped>\n",
       "    .dataframe tbody tr th:only-of-type {\n",
       "        vertical-align: middle;\n",
       "    }\n",
       "\n",
       "    .dataframe tbody tr th {\n",
       "        vertical-align: top;\n",
       "    }\n",
       "\n",
       "    .dataframe thead th {\n",
       "        text-align: right;\n",
       "    }\n",
       "</style>\n",
       "<table border=\"1\" class=\"dataframe\">\n",
       "  <thead>\n",
       "    <tr style=\"text-align: right;\">\n",
       "      <th></th>\n",
       "      <th>sex</th>\n",
       "      <th>smoke</th>\n",
       "      <th>active</th>\n",
       "      <th>cardio</th>\n",
       "      <th>cholesterol</th>\n",
       "    </tr>\n",
       "  </thead>\n",
       "  <tbody>\n",
       "    <tr>\n",
       "      <th>count</th>\n",
       "      <td>210</td>\n",
       "      <td>210</td>\n",
       "      <td>210</td>\n",
       "      <td>210</td>\n",
       "      <td>210</td>\n",
       "    </tr>\n",
       "    <tr>\n",
       "      <th>unique</th>\n",
       "      <td>2</td>\n",
       "      <td>2</td>\n",
       "      <td>2</td>\n",
       "      <td>2</td>\n",
       "      <td>4</td>\n",
       "    </tr>\n",
       "    <tr>\n",
       "      <th>top</th>\n",
       "      <td>False</td>\n",
       "      <td>False</td>\n",
       "      <td>True</td>\n",
       "      <td>False</td>\n",
       "      <td>normal</td>\n",
       "    </tr>\n",
       "    <tr>\n",
       "      <th>freq</th>\n",
       "      <td>129</td>\n",
       "      <td>186</td>\n",
       "      <td>162</td>\n",
       "      <td>105</td>\n",
       "      <td>153</td>\n",
       "    </tr>\n",
       "  </tbody>\n",
       "</table>\n",
       "</div>"
      ],
      "text/plain": [
       "          sex  smoke active cardio cholesterol\n",
       "count     210    210    210    210         210\n",
       "unique      2      2      2      2           4\n",
       "top     False  False   True  False      normal\n",
       "freq      129    186    162    105         153"
      ]
     },
     "execution_count": 113,
     "metadata": {},
     "output_type": "execute_result"
    }
   ],
   "source": [
    "# 2d) Your code here #\n",
    "data[binary_features + categorical_features].describe()"
   ]
  },
  {
   "cell_type": "markdown",
   "metadata": {},
   "source": [
    "----------\n",
    "Now, we will see ***what would have happened if the data was read in using default settings*** and not giving information about the types of the features (dtypes), giving no arguments to pd.read_csv. \n",
    "\n",
    "Run the below cell (no need to modify the code) and look at the output of the cell with the wrongly read data. Compare it with the output of the cell where you used the correctly read data to get the descriptives. "
   ]
  },
  {
   "cell_type": "code",
   "execution_count": 114,
   "metadata": {},
   "outputs": [
    {
     "data": {
      "text/html": [
       "<div>\n",
       "<style scoped>\n",
       "    .dataframe tbody tr th:only-of-type {\n",
       "        vertical-align: middle;\n",
       "    }\n",
       "\n",
       "    .dataframe tbody tr th {\n",
       "        vertical-align: top;\n",
       "    }\n",
       "\n",
       "    .dataframe thead th {\n",
       "        text-align: right;\n",
       "    }\n",
       "</style>\n",
       "<table border=\"1\" class=\"dataframe\">\n",
       "  <thead>\n",
       "    <tr style=\"text-align: right;\">\n",
       "      <th></th>\n",
       "      <th>age</th>\n",
       "      <th>sex</th>\n",
       "      <th>height</th>\n",
       "      <th>weight</th>\n",
       "      <th>ap_hi</th>\n",
       "      <th>ap_lo</th>\n",
       "      <th>smoke</th>\n",
       "      <th>active</th>\n",
       "      <th>cardio</th>\n",
       "    </tr>\n",
       "  </thead>\n",
       "  <tbody>\n",
       "    <tr>\n",
       "      <th>count</th>\n",
       "      <td>210.000000</td>\n",
       "      <td>210.000000</td>\n",
       "      <td>210.000000</td>\n",
       "      <td>210.000000</td>\n",
       "      <td>210.000000</td>\n",
       "      <td>210.000000</td>\n",
       "      <td>210.000000</td>\n",
       "      <td>210.000000</td>\n",
       "      <td>210.000000</td>\n",
       "    </tr>\n",
       "    <tr>\n",
       "      <th>mean</th>\n",
       "      <td>19455.504762</td>\n",
       "      <td>0.385714</td>\n",
       "      <td>164.180952</td>\n",
       "      <td>73.895238</td>\n",
       "      <td>127.857143</td>\n",
       "      <td>81.814286</td>\n",
       "      <td>0.114286</td>\n",
       "      <td>0.771429</td>\n",
       "      <td>0.500000</td>\n",
       "    </tr>\n",
       "    <tr>\n",
       "      <th>std</th>\n",
       "      <td>2429.010199</td>\n",
       "      <td>0.487927</td>\n",
       "      <td>7.534648</td>\n",
       "      <td>14.612326</td>\n",
       "      <td>17.508947</td>\n",
       "      <td>9.947652</td>\n",
       "      <td>0.318918</td>\n",
       "      <td>0.420916</td>\n",
       "      <td>0.501195</td>\n",
       "    </tr>\n",
       "    <tr>\n",
       "      <th>min</th>\n",
       "      <td>14367.000000</td>\n",
       "      <td>0.000000</td>\n",
       "      <td>142.000000</td>\n",
       "      <td>45.000000</td>\n",
       "      <td>90.000000</td>\n",
       "      <td>50.000000</td>\n",
       "      <td>0.000000</td>\n",
       "      <td>0.000000</td>\n",
       "      <td>0.000000</td>\n",
       "    </tr>\n",
       "    <tr>\n",
       "      <th>25%</th>\n",
       "      <td>17635.750000</td>\n",
       "      <td>0.000000</td>\n",
       "      <td>158.000000</td>\n",
       "      <td>64.000000</td>\n",
       "      <td>120.000000</td>\n",
       "      <td>80.000000</td>\n",
       "      <td>0.000000</td>\n",
       "      <td>1.000000</td>\n",
       "      <td>0.000000</td>\n",
       "    </tr>\n",
       "    <tr>\n",
       "      <th>50%</th>\n",
       "      <td>19778.000000</td>\n",
       "      <td>0.000000</td>\n",
       "      <td>164.000000</td>\n",
       "      <td>70.000000</td>\n",
       "      <td>120.000000</td>\n",
       "      <td>80.000000</td>\n",
       "      <td>0.000000</td>\n",
       "      <td>1.000000</td>\n",
       "      <td>0.500000</td>\n",
       "    </tr>\n",
       "    <tr>\n",
       "      <th>75%</th>\n",
       "      <td>21230.500000</td>\n",
       "      <td>1.000000</td>\n",
       "      <td>170.000000</td>\n",
       "      <td>81.000000</td>\n",
       "      <td>140.000000</td>\n",
       "      <td>90.000000</td>\n",
       "      <td>0.000000</td>\n",
       "      <td>1.000000</td>\n",
       "      <td>1.000000</td>\n",
       "    </tr>\n",
       "    <tr>\n",
       "      <th>max</th>\n",
       "      <td>23565.000000</td>\n",
       "      <td>1.000000</td>\n",
       "      <td>195.000000</td>\n",
       "      <td>125.000000</td>\n",
       "      <td>190.000000</td>\n",
       "      <td>120.000000</td>\n",
       "      <td>1.000000</td>\n",
       "      <td>1.000000</td>\n",
       "      <td>1.000000</td>\n",
       "    </tr>\n",
       "  </tbody>\n",
       "</table>\n",
       "</div>"
      ],
      "text/plain": [
       "                age         sex      height      weight       ap_hi  \\\n",
       "count    210.000000  210.000000  210.000000  210.000000  210.000000   \n",
       "mean   19455.504762    0.385714  164.180952   73.895238  127.857143   \n",
       "std     2429.010199    0.487927    7.534648   14.612326   17.508947   \n",
       "min    14367.000000    0.000000  142.000000   45.000000   90.000000   \n",
       "25%    17635.750000    0.000000  158.000000   64.000000  120.000000   \n",
       "50%    19778.000000    0.000000  164.000000   70.000000  120.000000   \n",
       "75%    21230.500000    1.000000  170.000000   81.000000  140.000000   \n",
       "max    23565.000000    1.000000  195.000000  125.000000  190.000000   \n",
       "\n",
       "            ap_lo       smoke      active      cardio  \n",
       "count  210.000000  210.000000  210.000000  210.000000  \n",
       "mean    81.814286    0.114286    0.771429    0.500000  \n",
       "std      9.947652    0.318918    0.420916    0.501195  \n",
       "min     50.000000    0.000000    0.000000    0.000000  \n",
       "25%     80.000000    0.000000    1.000000    0.000000  \n",
       "50%     80.000000    0.000000    1.000000    0.500000  \n",
       "75%     90.000000    0.000000    1.000000    1.000000  \n",
       "max    120.000000    1.000000    1.000000    1.000000  "
      ]
     },
     "execution_count": 114,
     "metadata": {},
     "output_type": "execute_result"
    }
   ],
   "source": [
    "# read in the dataset with no arguments\n",
    "wrongly_read_data = pd.read_csv(data_path)\n",
    "\n",
    "# calculate descriptives for the data that was wrongly read in. \n",
    "wrongly_read_data.describe()"
   ]
  },
  {
   "cell_type": "markdown",
   "metadata": {},
   "source": [
    "***2 e)*** \n",
    "- Looking at the above output, can you now say whats wrong with this presentation and why it was important to define the data types? "
   ]
  },
  {
   "cell_type": "markdown",
   "metadata": {},
   "source": [
    "<font color = red> By not specifying the data types beforehand, all of the binary columns were considered as numeric, and so their proporties were lost </font>"
   ]
  },
  {
   "cell_type": "markdown",
   "metadata": {},
   "source": [
    "-----------------------\n",
    "## 3. Plotting numeric features\n",
    "Descriptives don't really give a full or intuitive picture of the distribution of features. Next, we will make use of different plots to check the data quality.  "
   ]
  },
  {
   "cell_type": "markdown",
   "metadata": {},
   "source": [
    "----------\n",
    "***3 a)*** \n",
    "\n",
    "Plot the numeric features as histograms (see tutorial if you need help).\n",
    "\n",
    "_tip: if you give only one grid-size argument for plt.subplots() like plt.subplots(3) the grid will be one-dimensional and you can index it with only one indexer._  \n"
   ]
  },
  {
   "cell_type": "code",
   "execution_count": 115,
   "metadata": {},
   "outputs": [
    {
     "data": {
      "image/png": "[encoded data removed]",
      "text/plain": [
       "<Figure size 1058.4x648 with 5 Axes>"
      ]
     },
     "metadata": {
      "needs_background": "light"
     },
     "output_type": "display_data"
    }
   ],
   "source": [
    "# --- Your code for 3a) here --- #\n",
    "n_rows=2\n",
    "n_cols=3\n",
    "# Creating the subplots\n",
    "fig, axes = plt.subplots(nrows=n_rows, ncols=n_cols, figsize= (14.7, 9))\n",
    "# delete the unecessary last subplot\n",
    "fig.delaxes(axes[1,2])\n",
    "\n",
    "#subseting quantitative variables only\n",
    "for i, column in enumerate(data[numeric_features].columns):\n",
    "    sns.histplot(data[column],ax=axes[i//n_cols,i%n_cols])\n",
    "fig.suptitle(\"Histograms for numeric feautures\",fontsize=20)\n",
    "plt.tight_layout()"
   ]
  },
  {
   "cell_type": "markdown",
   "metadata": {},
   "source": [
    "_______\n",
    "## 4. Plotting binary and categorical features"
   ]
  },
  {
   "cell_type": "markdown",
   "metadata": {},
   "source": [
    "***4 a)*** Plot **barplots** for each of the non-numeric features. **Use fractions, not the real frequencies of the levels of these features**.\n",
    "\n",
    "--------------\n",
    "\n",
    "_tip: For plotting, see documentation on axes.bar. To get the fractions, see the value_counts function and its optional argument normalize._\n",
    "\n",
    "_If you read in the dtypes to be pandas dtype.boolean, in some cases its easier to work with other packages, suchs as matplotlib when they are represented as numbers [0,1] and not True or False. If you get errors you can try to cast them momentarily to be int or float with astype. This does not mean that you've done the exercise incorrectly, just that you have to change them for the plotting package._ "
   ]
  },
  {
   "cell_type": "code",
   "execution_count": 133,
   "metadata": {
    "scrolled": true
   },
   "outputs": [
    {
     "data": {
      "image/png": "[encoded data removed]",
      "text/plain": [
       "<Figure size 1058.4x739.44 with 5 Axes>"
      ]
     },
     "metadata": {
      "needs_background": "light"
     },
     "output_type": "display_data"
    }
   ],
   "source": [
    "n_rows=2\n",
    "n_cols=3\n",
    "# Creating the subplots\n",
    "fig, axs = plt.subplots(nrows=n_rows, ncols=n_cols, figsize= (14.7, 10.27))\n",
    "fig.delaxes(axs[1,2])\n",
    "for i, column in enumerate(data[binary_features + categorical_features].columns):\n",
    "    data[column].value_counts(normalize = True).plot(ax=axs[i//n_cols,i%n_cols], kind = 'bar')\n",
    "    ax=axs[i//n_cols,i%n_cols]\n",
    "    ax.set_title(column)\n",
    "fig.suptitle(\"Barplots for non-numeric feautures\",fontsize=20)    \n",
    "plt.tight_layout()"
   ]
  },
  {
   "cell_type": "markdown",
   "metadata": {},
   "source": [
    "**4 b)** \n",
    "\n",
    "Do you see something odd with one of the features? Fix it. \n",
    "\n",
    "_If you read the dtype of the categorical feature to be pandas dtype.categorical, **you have to also use the pandas function remove_categories to remove the category level from the feature**, even if you would have already removed the value. You can do this like: _data['feature_name'] = data['feature_name'].cat.remove_categories(\"category name to delete\")_"
   ]
  },
  {
   "cell_type": "code",
   "execution_count": 117,
   "metadata": {},
   "outputs": [],
   "source": [
    "### Your code for 4b) here ###\n",
    "data['cholesterol'] = data['cholesterol'].cat.remove_categories(\"elev ated\")"
   ]
  },
  {
   "cell_type": "markdown",
   "metadata": {},
   "source": [
    "-------------\n",
    "\n",
    "## 5. Preprocessing numeric features"
   ]
  },
  {
   "cell_type": "markdown",
   "metadata": {},
   "source": [
    "Scaling the data improves the performance of machine learning algorithms in many cases, or perhaps better put, can ruin performance if not done. For instance with distance based algorithms covered in the course such as PCA, T-SNE and KNN some features with large values can dominate the distance calculations. \n",
    "\n",
    "-----------\n",
    "We will look at two often used ways of bringing the values to the same scale: **min-max scaling to [0,1]** and **standardizing the features to 0 mean and unit variance**. We will see, that the decision has implications on how the data will look afterwards. Standardizing values is very common in statistics and min-max scaling is for example used in training neural networks, where we want the range to match the range of an activation function in the network. Its good to know both. \n",
    "\n",
    "Two functions, sklearn.minmax_scale and sklearn.scale have been imported for you and you can use them in the following exercises.\n",
    "__________________________\n",
    "\n"
   ]
  },
  {
   "cell_type": "markdown",
   "metadata": {},
   "source": [
    "**5 a)** In this exercise we will use boxplots. Explain what a boxplot is and what information it gives you. "
   ]
  },
  {
   "cell_type": "markdown",
   "metadata": {},
   "source": [
    "<font color = red> A box-plot is a simple graph consisting of a rectangle from which two straight lines come out in order to represent certain elements of the data. \n",
    "- The central value of the graph is the median.\n",
    "- The edges of the rectangle are the quartiles (25th and 75th percentile).\n",
    "- The ends of the whiskers are calculated using 1.5 times the interquartile space (the distance between the 1st and 3rd quartiles), indicating the mnimum and maximum values. \n",
    "- Values outside the whiskers are represented by dots. An observation outside the whiskers is not necessarily an outlier. On the other hand, it indicates that this observation needs to be studied in more detail.</font>"
   ]
  },
  {
   "cell_type": "markdown",
   "metadata": {},
   "source": [
    "**5 b)** Min-max numeric attributes to [0,1] and **store the results in a new dataframe called data_min_maxed**. You might have to wrap the data to a dataframe again using pd.DataFrame()"
   ]
  },
  {
   "cell_type": "code",
   "execution_count": 118,
   "metadata": {},
   "outputs": [],
   "source": [
    "# --- Your code for 5b) here --- #\n",
    "# use the variable name data_min_maxed\n",
    "data_min_maxed = data.copy()\n",
    "data_min_maxed[numeric_features] = pd.DataFrame(minmax_scale(data[numeric_features], feature_range=(0, 1), axis=0, copy=True))"
   ]
  },
  {
   "cell_type": "markdown",
   "metadata": {},
   "source": [
    "**5 c)** Standardize numeric attributes to 0 mean and unit variance and **store the results in a new dataframe called data_standardized**"
   ]
  },
  {
   "cell_type": "code",
   "execution_count": 119,
   "metadata": {},
   "outputs": [],
   "source": [
    "# Your code for 5c here --- #\n",
    "data_standardized = data.copy()\n",
    "data_standardized[numeric_features] =pd.DataFrame(scale(data[numeric_features], axis=0, with_mean=True, with_std=True, copy=True))"
   ]
  },
  {
   "cell_type": "markdown",
   "metadata": {},
   "source": [
    "**5 d)** Make two boxplots of the 'age' feature, one plot with the data_min_maxed and one with the data_standardized. Preferably put the plots side-by-side and give each titles. See the tutorial in the beginning for help. "
   ]
  },
  {
   "cell_type": "code",
   "execution_count": 120,
   "metadata": {},
   "outputs": [
    {
     "data": {
      "text/plain": [
       "Text(0.5, 1.0, 'Boxplot for \"age\" with data_standardized')"
      ]
     },
     "execution_count": 120,
     "metadata": {},
     "output_type": "execute_result"
    },
    {
     "data": {
      "image/png": "[encoded data removed]",
      "text/plain": [
       "<Figure size 720x360 with 2 Axes>"
      ]
     },
     "metadata": {
      "needs_background": "light"
     },
     "output_type": "display_data"
    }
   ],
   "source": [
    "# Your code for 5d) here --- #\n",
    "n_rows=1\n",
    "n_cols=2\n",
    "# Creating the subplots\n",
    "fig, axes = plt.subplots(nrows=n_rows, ncols=n_cols, figsize= (10, 5))\n",
    "sns.boxplot(y = data_min_maxed['age'],ax=axes[0])\n",
    "sns.boxplot(y = data_standardized['age'],ax=axes[1])\n",
    "\n",
    "axes[0].set_title('Boxplot for \"age\" with data_min_maxed')\n",
    "axes[1].set_title('Boxplot for \"age\" with data_standardized')"
   ]
  },
  {
   "cell_type": "markdown",
   "metadata": {},
   "source": [
    "---------\n",
    "\n",
    "Lets see the differences of these preprocessing methods through an example. We will add an \"outlier\" point (some point with a large value) to replace the \n",
    "last value in both data, then again minmax and standardize and plot. The code to add the value is given for you and you shouldn't change it. \n",
    "\n",
    "--------------------\n",
    "\n",
    "***5e) Do the following:***\n",
    "1. Take the data for the age feature (age_w_outlier) provided for you\n",
    "2. Make two variables, age_w_outlier_minmaxed, containing the min-maxed values of the age_w_outlier and\n",
    "3.  age_w_outlier_standardized containing the standardized values for the age_w_outlier\n"
   ]
  },
  {
   "cell_type": "code",
   "execution_count": 121,
   "metadata": {},
   "outputs": [],
   "source": [
    "### Add an outlier, DONT CHANGE THIS CELL CODE, JUST RUN IT ###\n",
    "data_w_outlier = data.copy() #data should be the name of the variable where you have stored your data!\n",
    "data_w_outlier.loc[data.shape[0] -1 , 'age'] = 150 #change the last value of age to be 150\n",
    "age_w_outlier = data_w_outlier.age"
   ]
  },
  {
   "cell_type": "code",
   "execution_count": 122,
   "metadata": {},
   "outputs": [],
   "source": [
    "# --- Your code for 5e) --- \n",
    "\n",
    "# create age_w_outlier_minmaxed, keep the names the same\n",
    "age_w_outlier_minmaxed = minmax_scale(age_w_outlier, feature_range=(0, 1), axis=0, copy=True)\n",
    "\n",
    "# create age_w_outlier_standardized\n",
    "age_w_outlier_standardized = scale(age_w_outlier, axis=0, with_mean=True, with_std=True, copy=True)"
   ]
  },
  {
   "cell_type": "markdown",
   "metadata": {},
   "source": [
    "***Below there is pre-written code for you to plot the different cases. Run it. The code should run if you have named your features appropriately. Run the code.***"
   ]
  },
  {
   "cell_type": "code",
   "execution_count": 123,
   "metadata": {},
   "outputs": [
    {
     "data": {
      "image/png": "[encoded data removed]",
      "text/plain": [
       "<Figure size 432x288 with 1 Axes>"
      ]
     },
     "metadata": {
      "needs_background": "light"
     },
     "output_type": "display_data"
    },
    {
     "data": {
      "image/png": "[encoded data removed]",
      "text/plain": [
       "<Figure size 432x288 with 1 Axes>"
      ]
     },
     "metadata": {
      "needs_background": "light"
     },
     "output_type": "display_data"
    }
   ],
   "source": [
    "# Wrap in a dataframe that will have two features - the age feature without the outlier, and the age feature with it, min-maxed.\n",
    "minmaxed_datas = pd.DataFrame({\"minmaxed_age_no_outlier\" : data_min_maxed.age, \n",
    "              \"minmaxed_age_with_outlier\": age_w_outlier_minmaxed })\n",
    "\n",
    "# Wrap in a dataframe that will have two features - the age feature without the outlier, and the age feature with it, standardized. \n",
    "standardized_datas = pd.DataFrame({\"standardized_data_no_outlier\" : data_standardized.age, \n",
    "              \"standardized_data_w_outlier\": age_w_outlier_standardized })\n",
    "\n",
    "axes_minmaxed = minmaxed_datas[['minmaxed_age_no_outlier', 'minmaxed_age_with_outlier']].plot(kind='box', title='Minmax with and without outlier')\n",
    "axes_std = standardized_datas[['standardized_data_no_outlier', 'standardized_data_w_outlier']].plot(kind='box', title='Standardized with and without outlier')"
   ]
  },
  {
   "cell_type": "markdown",
   "metadata": {},
   "source": [
    "----------\n",
    "**5 f) Look at the output of the above cell and answer the following**: \n",
    "\n",
    "1. Can you notice a difference between the two cases (min-maxed and standardized)? \n",
    "2. Can you say something about the difference of the effect of min-maxing and standardization?\n"
   ]
  },
  {
   "cell_type": "markdown",
   "metadata": {},
   "source": [
    "<font color = red>\n",
    "1. Yes we can notice that the min-maxed data was strongly affected by the addition of the outlier, while the standardized data didn't change much\n",
    "<br>2. We can say that while in both cases the scaling methods didn't eliminate the outlier, the standardization is definitely less sensitive to outliers, while with min-max scaling because we scale the data to a limited range of values, it is far more sensitive to small changes in the data "
   ]
  },
  {
   "cell_type": "markdown",
   "metadata": {},
   "source": [
    "---------------\n",
    "## 6. Preprocessing categorical features\n",
    "\n"
   ]
  },
  {
   "cell_type": "markdown",
   "metadata": {},
   "source": [
    "We can roughly divide categorical variables/features to two types:  ***nominal categorical***  and  ***ordinal categorical*** variables/features. Some cases are clear in terms of which of the two a feature falls into. For example nationality is not an ordered feature, but which grade in school someone is has a natural ordering. **One-hot encoding** was presented in the lectures and will be used in the following exercises with different learning methods.\n",
    "\n",
    "\n",
    "-----\n",
    "***Nominal categorical features need to be encoded***, because not encoding them implies that they have an order. For example, consider a dataset where you would have rows by different countries, encoded randomly with numbers, for ex. Finland = 1, Norway = 2 and so on. For some analyses and methods this would imply that Norway is somehow \"greater\" in value than Finland. For some algorithms, the implication would also be, that some of the countries would be \"closer\" to each other. \n",
    "\n",
    "------\n",
    "***Ordinal categorical features do not necessarily need to be encoded***, but there are cases where it can be wise. One case is that the categories are not even distance from each other, which is the case with the 'cholesterol' feature with the levels 'normal', 'elevated' and 'at risk'. Its not clear that these are equal in distance from each other. When unsure, it may also be better to one-hot encode, and a lot of packages do it for you behind the scenes. Here we decide to one-hot encode.  \n",
    "\n",
    "---------------------\n"
   ]
  },
  {
   "cell_type": "markdown",
   "metadata": {},
   "source": [
    "**6 a)** One-hot-encode the cholesterol-feature and add the one-hot features to the data. Give the new features meaningful names. Print the first rows of the resulting dataframe. \n",
    "\n",
    "_tip: pandas has a function for this, google!_"
   ]
  },
  {
   "cell_type": "code",
   "execution_count": 124,
   "metadata": {},
   "outputs": [
    {
     "data": {
      "text/html": [
       "<div>\n",
       "<style scoped>\n",
       "    .dataframe tbody tr th:only-of-type {\n",
       "        vertical-align: middle;\n",
       "    }\n",
       "\n",
       "    .dataframe tbody tr th {\n",
       "        vertical-align: top;\n",
       "    }\n",
       "\n",
       "    .dataframe thead th {\n",
       "        text-align: right;\n",
       "    }\n",
       "</style>\n",
       "<table border=\"1\" class=\"dataframe\">\n",
       "  <thead>\n",
       "    <tr style=\"text-align: right;\">\n",
       "      <th></th>\n",
       "      <th>age</th>\n",
       "      <th>sex</th>\n",
       "      <th>height</th>\n",
       "      <th>weight</th>\n",
       "      <th>ap_hi</th>\n",
       "      <th>ap_lo</th>\n",
       "      <th>smoke</th>\n",
       "      <th>active</th>\n",
       "      <th>cardio</th>\n",
       "      <th>cholesterol</th>\n",
       "      <th>cholesterol level_at risk</th>\n",
       "      <th>cholesterol level_elevated</th>\n",
       "      <th>cholesterol level_normal</th>\n",
       "    </tr>\n",
       "  </thead>\n",
       "  <tbody>\n",
       "    <tr>\n",
       "      <th>0</th>\n",
       "      <td>19797</td>\n",
       "      <td>False</td>\n",
       "      <td>161</td>\n",
       "      <td>55</td>\n",
       "      <td>102</td>\n",
       "      <td>68</td>\n",
       "      <td>False</td>\n",
       "      <td>True</td>\n",
       "      <td>False</td>\n",
       "      <td>elevated</td>\n",
       "      <td>0</td>\n",
       "      <td>1</td>\n",
       "      <td>0</td>\n",
       "    </tr>\n",
       "    <tr>\n",
       "      <th>1</th>\n",
       "      <td>22571</td>\n",
       "      <td>True</td>\n",
       "      <td>178</td>\n",
       "      <td>68</td>\n",
       "      <td>120</td>\n",
       "      <td>70</td>\n",
       "      <td>False</td>\n",
       "      <td>False</td>\n",
       "      <td>False</td>\n",
       "      <td>normal</td>\n",
       "      <td>0</td>\n",
       "      <td>0</td>\n",
       "      <td>1</td>\n",
       "    </tr>\n",
       "    <tr>\n",
       "      <th>2</th>\n",
       "      <td>16621</td>\n",
       "      <td>True</td>\n",
       "      <td>169</td>\n",
       "      <td>69</td>\n",
       "      <td>120</td>\n",
       "      <td>80</td>\n",
       "      <td>False</td>\n",
       "      <td>True</td>\n",
       "      <td>False</td>\n",
       "      <td>normal</td>\n",
       "      <td>0</td>\n",
       "      <td>0</td>\n",
       "      <td>1</td>\n",
       "    </tr>\n",
       "    <tr>\n",
       "      <th>3</th>\n",
       "      <td>16688</td>\n",
       "      <td>False</td>\n",
       "      <td>156</td>\n",
       "      <td>77</td>\n",
       "      <td>120</td>\n",
       "      <td>80</td>\n",
       "      <td>False</td>\n",
       "      <td>True</td>\n",
       "      <td>False</td>\n",
       "      <td>normal</td>\n",
       "      <td>0</td>\n",
       "      <td>0</td>\n",
       "      <td>1</td>\n",
       "    </tr>\n",
       "    <tr>\n",
       "      <th>4</th>\n",
       "      <td>19498</td>\n",
       "      <td>True</td>\n",
       "      <td>170</td>\n",
       "      <td>98</td>\n",
       "      <td>130</td>\n",
       "      <td>80</td>\n",
       "      <td>True</td>\n",
       "      <td>True</td>\n",
       "      <td>True</td>\n",
       "      <td>elevated</td>\n",
       "      <td>0</td>\n",
       "      <td>1</td>\n",
       "      <td>0</td>\n",
       "    </tr>\n",
       "  </tbody>\n",
       "</table>\n",
       "</div>"
      ],
      "text/plain": [
       "     age    sex  height  weight  ap_hi  ap_lo  smoke  active  cardio  \\\n",
       "0  19797  False     161      55    102     68  False    True   False   \n",
       "1  22571   True     178      68    120     70  False   False   False   \n",
       "2  16621   True     169      69    120     80  False    True   False   \n",
       "3  16688  False     156      77    120     80  False    True   False   \n",
       "4  19498   True     170      98    130     80   True    True    True   \n",
       "\n",
       "  cholesterol  cholesterol level_at risk  cholesterol level_elevated  \\\n",
       "0    elevated                          0                           1   \n",
       "1      normal                          0                           0   \n",
       "2      normal                          0                           0   \n",
       "3      normal                          0                           0   \n",
       "4    elevated                          0                           1   \n",
       "\n",
       "   cholesterol level_normal  \n",
       "0                         0  \n",
       "1                         1  \n",
       "2                         1  \n",
       "3                         1  \n",
       "4                         0  "
      ]
     },
     "execution_count": 124,
     "metadata": {},
     "output_type": "execute_result"
    }
   ],
   "source": [
    "# --- Your code for 6 a) here ---\n",
    "data = pd.concat([data, pd.get_dummies(data.cholesterol, prefix='cholesterol level')], axis=1)\n",
    "data.head()"
   ]
  },
  {
   "cell_type": "markdown",
   "metadata": {},
   "source": [
    "----------"
   ]
  },
  {
   "cell_type": "markdown",
   "metadata": {},
   "source": [
    "<div class=\"alert alert-block alert-warning\">\n",
    "    <h1><center> BONUS EXERCISES </center></h1>"
   ]
  },
  {
   "cell_type": "markdown",
   "metadata": {},
   "source": [
    "- Below are the bonus exercises. You can stop here, and get the \"pass\" grade. \n",
    "- By doing the bonus exercises below, you can get a \"pass with honors\", which means you will get one point bonus for the exam. \n",
    "\n",
    "The following exercises are more challenging and not as straight-forward and may require some research of your own. However, perfect written answers are not required, but answers that show that you have tried to understand the problems and explain them with your own words. "
   ]
  },
  {
   "cell_type": "markdown",
   "metadata": {
    "id": "bea2hNxp3BPv"
   },
   "source": [
    "____________\n",
    "##  <font color = dollargreen > 7. BONUS: Dimensionality reduction and plotting with PCA </font>\n",
    "In the lectures, PCA was introduced as a dimensionality reduction technique. Here we will use it to reduce the dimensionality of the numeric features of this dataset and use the resulting compressed view of the dataset to plot it. This means you have to, run PCA  and then project the data you used to fit the PCA to the new space, where the principal components are the axes.\n",
    "____________"
   ]
  },
  {
   "cell_type": "markdown",
   "metadata": {
    "id": "4mco9ZWp3BPv"
   },
   "source": [
    "**7 a)** Explain _in your own words_ what principal component analysis is.\n",
    "\n",
    "--------"
   ]
  },
  {
   "cell_type": "markdown",
   "metadata": {},
   "source": [
    "<font color = red> PCA is a method for dimensionality reduction which allows us to transform highly correlated variables into new independent variables. This method helps summarize the information contained in a large dataset into a number of synthetic variables called: Principal components.\n",
    "The idea is then to be able to project this data onto the nearest hyperplane in order to have a simple representation of our data.</font>"
   ]
  },
  {
   "cell_type": "markdown",
   "metadata": {
    "id": "4mco9ZWp3BPv"
   },
   "source": [
    "-------------\n",
    "**7 b)** Do PCA with two components with and without z-score standardization **for the numeric features in the data**. "
   ]
  },
  {
   "cell_type": "code",
   "execution_count": 125,
   "metadata": {},
   "outputs": [],
   "source": [
    "# --- Your for 7b) code here --- #\n",
    "\n",
    "# with z-score standardization\n",
    "pca = PCA(n_components=2)\n",
    "x = data_standardized[numeric_features].values\n",
    "principalComponents = pca.fit_transform(x)\n",
    "principalDf = pd.DataFrame(data = principalComponents\n",
    "             , columns = ['principal component 1', 'principal component 2'])\n",
    "\n",
    "# without z-score standardization\n",
    "pca_no_standardization = PCA(n_components=2)\n",
    "x_no_standardization = data[numeric_features].values\n",
    "principalComponents_no_standardization = pca_no_standardization.fit_transform(x_no_standardization)\n",
    "principalDf_no_standardization = pd.DataFrame(data = principalComponents_no_standardization\n",
    "             , columns = ['principal component 1', 'principal component 2'])"
   ]
  },
  {
   "cell_type": "markdown",
   "metadata": {},
   "source": [
    "-------------\n",
    "\n",
    "\n",
    "**7 c) Plot the data, projected on to the PCA space as a scatterplot, the x-axis being one component and y the other. **Add the total explained variance to your plot as an annotation**. See the documentation of the pca method on how to get the explained variance.\n",
    "\n",
    "- _Tip: It may be easier to try the seaborn scatterplot for this one. For help see documentation on how to do annotation see tutorial. The total explained variance is the sum of both the components explained variance_.\n",
    "\n",
    "- _Tip2_: Depending on how you approach annotating the plot, you might have to cast the feature name to be a string. One nice way to format values in python is the f - formatting string, which allows you to insert expressions inside strings (see example below):\n",
    "\n",
    "\n",
    "\n",
    "------\n",
    "name = Valtteri<br>\n",
    "print(f\"hello_{name}\")\n",
    "\n",
    "---------\n",
    "You can also set the number of wanted decimals for floats<br>\n",
    "For example f'{float_variable:.2f}' would result in 2 decimals making it to the string created\n",
    "\n",
    "----------"
   ]
  },
  {
   "cell_type": "code",
   "execution_count": 126,
   "metadata": {},
   "outputs": [
    {
     "data": {
      "image/png": "[encoded data removed]",
      "text/plain": [
       "<Figure size 360x360 with 1 Axes>"
      ]
     },
     "metadata": {
      "needs_background": "light"
     },
     "output_type": "display_data"
    }
   ],
   "source": [
    "explained_var = pca.explained_variance_ratio_ * 100\n",
    "ax = sns.lmplot(x='principal component 1', y='principal component 2', data=principalDf, fit_reg=False, height=5)\n",
    "ax.set(xlabel='PC1 {0:.2f}%'.format(explained_var[0]), ylabel='PC2 {0:.2f}%'.format(explained_var[1]))\n",
    "plt.title('2D PCA Graph')\n",
    "plt.show()"
   ]
  },
  {
   "cell_type": "code",
   "execution_count": 127,
   "metadata": {},
   "outputs": [
    {
     "data": {
      "image/png": "[encoded data removed]",
      "text/plain": [
       "<Figure size 360x360 with 1 Axes>"
      ]
     },
     "metadata": {
      "needs_background": "light"
     },
     "output_type": "display_data"
    }
   ],
   "source": [
    "# no standardization\n",
    "explained_var_no_standardization = pca_no_standardization.explained_variance_ratio_ * 100\n",
    "ax = sns.lmplot(x='principal component 1', y='principal component 2', data=principalDf_no_standardization, fit_reg=False, height=5)\n",
    "ax.set(xlabel='PC1 {0:.2f}%'.format(explained_var_no_standardization[0]), ylabel='PC2 {0:.2f}%'.format(explained_var_no_standardization[1]))\n",
    "plt.title('2D PCA Graph no standardization')\n",
    "plt.show()"
   ]
  },
  {
   "cell_type": "markdown",
   "metadata": {},
   "source": [
    " \n",
    "\n",
    "**7 d) Gather information for the next part of the exercise and print out the following things:**\n",
    "- First, the standard deviation of the original data features (not standardized, and with the numeric features only).\n",
    "- Second, the standard deviation of the standardized numeric features "
   ]
  },
  {
   "cell_type": "code",
   "execution_count": 128,
   "metadata": {},
   "outputs": [
    {
     "name": "stdout",
     "output_type": "stream",
     "text": [
      "+++++++++ Standard deviations of numeric features, original data +++++++++\n",
      "age       2429.010199\n",
      "height       7.534648\n",
      "weight      14.612326\n",
      "ap_hi       17.508947\n",
      "ap_lo        9.947652\n",
      "dtype: float64\n",
      "+++++++++ Standard deviations of numeric features, standardized data +++++++++\n",
      "age       1.002389\n",
      "height    1.002389\n",
      "weight    1.002389\n",
      "ap_hi     1.002389\n",
      "ap_lo     1.002389\n",
      "dtype: float64\n"
     ]
    }
   ],
   "source": [
    "# --- Your code for 7d) here --- #\n",
    "\n",
    "print( \"+++\"*3, \"Standard deviations of numeric features, original data\", \"+++\" * 3)  \n",
    "\n",
    "print(data[numeric_features].std())\n",
    "\n",
    "print( \"+++\"*3, \"Standard deviations of numeric features, standardized data\", \"+++\" * 3)  \n",
    "\n",
    "print(data_standardized[numeric_features].std())"
   ]
  },
  {
   "cell_type": "markdown",
   "metadata": {
    "id": "4mco9ZWp3BPv"
   },
   "source": [
    "----------\n",
    "**7 e) Look at the output above and the explained variance information you added as annotations to the plots. Try to think about the following questions and give a short answer of what you think has happened:** \n",
    "\n",
    "1. Where do you think the difference between the amounts of explained variance might come from? \n",
    "\n",
    "2. Can you say something about why it is important to scale the features for PCA by looking at the evidence youve gathered?\n",
    "\n",
    "__Answer in your own words, here it is not important to get the perfect answer but to try to think and figure out what has happened__\n",
    "\n",
    "------------"
   ]
  },
  {
   "cell_type": "markdown",
   "metadata": {},
   "source": [
    "<font color = red>\n",
    "1. We are aware of the fact that PCA is mainly an exerice where we try to mazximize our explained variance, so when we used PCA on the data before standarization it looks like the first componenet explained most of the variance in the data, maybe considering that we have one feauture 'age' with a standrad deviation much greater than the other variables. While after standarization, all our variables now have a standard deviation of 1, and this time other componenets were able to contribute as well.\n",
    "<br>2. Standarization is important before PCA, because in the case where one variable has higher variance than other variables, the PCA components become biased in the direction of that variable, thinking that that variable alone contains more information about our data\n",
    "</font>"
   ]
  },
  {
   "cell_type": "markdown",
   "metadata": {},
   "source": [
    "------------------\n",
    "\n",
    "## <font color = dollargreen > 8. Bonus: t-SNE and high dimensional data </font> "
   ]
  },
  {
   "cell_type": "markdown",
   "metadata": {},
   "source": [
    "Another method that can be used to plot high-dimensional data introduced in the lectures was t-distributed Stochastic Neighbor Embedding (t-SNE)."
   ]
  },
  {
   "cell_type": "markdown",
   "metadata": {},
   "source": [
    "***8 a)*** Shortly explain t-SNE **in your own words**. "
   ]
  },
  {
   "cell_type": "markdown",
   "metadata": {},
   "source": [
    "<font color = red> T-SNE is a nonlinear dimensionality reduction algorithm that constructs a new representation of the data such that nearby data in the original space has a high probability of having nearby representations in the new space. On the contrary, data that are far in the original space have a low probability of having close representations in the new space. </font>"
   ]
  },
  {
   "cell_type": "markdown",
   "metadata": {},
   "source": [
    "***8 b)*** Run t-SNE for both standardized and non standardized data (as you did with PCA)."
   ]
  },
  {
   "cell_type": "code",
   "execution_count": 129,
   "metadata": {},
   "outputs": [
    {
     "name": "stdout",
     "output_type": "stream",
     "text": [
      "[t-SNE] Computing 91 nearest neighbors...\n",
      "[t-SNE] Indexed 210 samples in 0.003s...\n",
      "[t-SNE] Computed neighbors for 210 samples in 0.011s...\n",
      "[t-SNE] Computed conditional probabilities for sample 210 / 210\n",
      "[t-SNE] Mean sigma: 0.897186\n",
      "[t-SNE] KL divergence after 250 iterations with early exaggeration: 59.334824\n",
      "[t-SNE] KL divergence after 800 iterations: 0.595306\n",
      "[t-SNE] Computing 91 nearest neighbors...\n",
      "[t-SNE] Indexed 210 samples in 0.000s...\n",
      "[t-SNE] Computed neighbors for 210 samples in 0.005s...\n",
      "[t-SNE] Computed conditional probabilities for sample 210 / 210\n",
      "[t-SNE] Mean sigma: 420.082924\n",
      "[t-SNE] KL divergence after 250 iterations with early exaggeration: 47.981857\n",
      "[t-SNE] KL divergence after 750 iterations: 0.095663\n"
     ]
    }
   ],
   "source": [
    "# --- Your code for 8b) here --- #\n",
    "\n",
    "\n",
    "# with z-score standardization\n",
    "tsne = TSNE(n_components=2, verbose=1, random_state=123)\n",
    "z = tsne.fit_transform(x)\n",
    "tsneDf = pd.DataFrame(data = z\n",
    "             , columns = ['component 1', 'component 2'])\n",
    "finalDf = pd.concat([tsneDf, data[['cardio']]], axis = 1)\n",
    "\n",
    "# without z-score standardization\n",
    "tsne_no_standardization = TSNE(n_components=2, verbose=1, random_state=123)\n",
    "z_no_standardization = tsne_no_standardization.fit_transform(x_no_standardization)\n",
    "tsneDf_no_standardization = pd.DataFrame(data = z_no_standardization\n",
    "             , columns = ['component 1', 'component 2'])\n",
    "finalDf_no_standardization = pd.concat([tsneDf_no_standardization, data[['cardio']]], axis = 1)"
   ]
  },
  {
   "cell_type": "markdown",
   "metadata": {},
   "source": [
    "***8 c)*** Plot t-sne, similarly to PCA making the color of the points correspond to the levels of the cardio feature, but having only numerical features as a basis of the T-SNE.  "
   ]
  },
  {
   "cell_type": "code",
   "execution_count": 130,
   "metadata": {},
   "outputs": [
    {
     "data": {
      "image/png": "[encoded data removed]",
      "text/plain": [
       "<Figure size 576x576 with 1 Axes>"
      ]
     },
     "metadata": {
      "needs_background": "light"
     },
     "output_type": "display_data"
    }
   ],
   "source": [
    "# --- Code for 8 c) --- #\n",
    "fig = plt.figure(figsize = (8,8))\n",
    "ax = fig.add_subplot(1,1,1) \n",
    "targets = list(data['cardio'].unique())\n",
    "colors = ['r', 'b']\n",
    "for target, color in zip(targets,colors):\n",
    "    indicesToKeep = finalDf['cardio'] == target\n",
    "    ax.scatter(finalDf.loc[indicesToKeep, 'component 1']\n",
    "               , finalDf.loc[indicesToKeep, 'component 2']\n",
    "               , c = color\n",
    "               , s = 50)\n",
    "ax.legend(targets)\n",
    "\n",
    "#ax = sns.lmplot(x='component 1', y='component 2', data=tsneDf, fit_reg=False, height=5, hue = 'cardio')\n",
    "plt.title('2D tsne Graph')\n",
    "plt.show()"
   ]
  },
  {
   "cell_type": "code",
   "execution_count": 131,
   "metadata": {},
   "outputs": [
    {
     "data": {
      "image/png": "[encoded data removed]",
      "text/plain": [
       "<Figure size 576x576 with 1 Axes>"
      ]
     },
     "metadata": {
      "needs_background": "light"
     },
     "output_type": "display_data"
    }
   ],
   "source": [
    "fig = plt.figure(figsize = (8,8))\n",
    "ax = fig.add_subplot(1,1,1) \n",
    "\n",
    "for target, color in zip(targets,colors):\n",
    "    indicesToKeep = finalDf_no_standardization['cardio'] == target\n",
    "    ax.scatter(finalDf_no_standardization.loc[indicesToKeep, 'component 1']\n",
    "               , finalDf_no_standardization.loc[indicesToKeep, 'component 2']\n",
    "               , c = color\n",
    "               , s = 50)\n",
    "ax.legend(targets)\n",
    "\n",
    "#ax = sns.lmplot(x='component 1', y='component 2', data=tsneDf, fit_reg=False, height=5, hue = 'cardio')\n",
    "plt.title('2D tsne Graph no standardization')\n",
    "plt.show()"
   ]
  },
  {
   "cell_type": "markdown",
   "metadata": {},
   "source": [
    "***8 d)*** \n",
    "\n",
    "- What do you think might have happened between the two runs of t-SNE on unstandardized and standardized data? Why is it important to standardize before using the algorithm?\n",
    "\n",
    "_Here the aim is to think about this and learn, not come up with a perfect explanation. Googling is encouraged. Think about whether t-sne is a distance based algorithm or not?_ "
   ]
  },
  {
   "cell_type": "markdown",
   "metadata": {},
   "source": [
    "<font color = red> We know that t-SNE computes a probability distribution on pairs in higher dimensions in a way that similar instances are given a higher probability and different instances are given lower probability. By standardizing our data, our variables converge towards a gaussian distribution, making the different dimentions treated equally. Another thing to note is that the mechanism behind t-SNE works with distance, not variance and age dominates the calculation of the distances. "
   ]
  }
 ],
 "metadata": {
  "colab": {
   "name": "DADK_exercise_2_2021.ipynb",
   "provenance": []
  },
  "kernelspec": {
   "display_name": "Python 3 (ipykernel)",
   "language": "python",
   "name": "python3"
  },
  "language_info": {
   "codemirror_mode": {
    "name": "ipython",
    "version": 3
   },
   "file_extension": ".py",
   "mimetype": "text/x-python",
   "name": "python",
   "nbconvert_exporter": "python",
   "pygments_lexer": "ipython3",
   "version": "3.10.12"
  },
  "toc": {
   "base_numbering": 1,
   "nav_menu": {
    "height": "180px",
    "width": "160px"
   },
   "number_sections": false,
   "sideBar": true,
   "skip_h1_title": true,
   "title_cell": "Table of Contents",
   "title_sidebar": "Contents",
   "toc_cell": false,
   "toc_position": {},
   "toc_section_display": true,
   "toc_window_display": true
  }
 },
 "nbformat": 4,
 "nbformat_minor": 4
}
